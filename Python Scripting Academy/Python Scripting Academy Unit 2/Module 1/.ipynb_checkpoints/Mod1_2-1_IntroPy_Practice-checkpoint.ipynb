{
 "cells": [
  {
   "cell_type": "markdown",
   "metadata": {},
   "source": [
    "# 2-1 Intro Python Practice\n",
    "## Sequence: String\n",
    "\n",
    "<font size=\"5\" color=\"#00A0B2\"  face=\"verdana\"> <B>Student will be able to</B></font>  \n",
    "- Work with String Characters\n",
    "- Slice strings into substrings\n",
    "- Iterate through String Characters\n",
    "- Use String ~~Tricks~~ Methods"
   ]
  },
  {
   "cell_type": "markdown",
   "metadata": {},
   "source": [
    "# &nbsp;\n",
    "<font size=\"6\" color=\"#B24C00\"  face=\"verdana\"> <B>Task 1</B></font>\n",
    "##  Access String Characters \n",
    "### `working_string[index]`\n"
   ]
  },
  {
   "cell_type": "code",
   "execution_count": 7,
   "metadata": {},
   "outputs": [
    {
     "name": "stdout",
     "output_type": "stream",
     "text": [
      "u\n"
     ]
    }
   ],
   "source": [
    "# [x] access and print the second character from planet_name: \"u\"\n",
    "planet_name = \"Jupiter\"\n",
    "print(planet_name[1])\n"
   ]
  },
  {
   "cell_type": "code",
   "execution_count": 8,
   "metadata": {},
   "outputs": [
    {
     "name": "stdout",
     "output_type": "stream",
     "text": [
      "J\n"
     ]
    }
   ],
   "source": [
    "# [x] access and print the first character from planet_name: \"J\"\n",
    "planet_name = \"Jupiter\"\n",
    "print(planet_name[0])\n"
   ]
  },
  {
   "cell_type": "code",
   "execution_count": 9,
   "metadata": {},
   "outputs": [
    {
     "name": "stdout",
     "output_type": "stream",
     "text": [
      "J r\n"
     ]
    }
   ],
   "source": [
    "# [x] access and print the first and last characters from planet_name\n",
    "planet_name = \"Jupiter\"\n",
    "print(planet_name[0],planet_name[-1])\n"
   ]
  },
  {
   "cell_type": "code",
   "execution_count": 10,
   "metadata": {},
   "outputs": [
    {
     "name": "stdout",
     "output_type": "stream",
     "text": [
      "J\n"
     ]
    }
   ],
   "source": [
    "# [x] using a negative index access and print the first character from planet_name: \"J\"\n",
    "planet_name = \"Jupiter\"\n",
    "print(planet_name[-7])\n"
   ]
  },
  {
   "cell_type": "markdown",
   "metadata": {},
   "source": [
    "# &nbsp;\n",
    "<font size=\"6\" color=\"#B24C00\"  face=\"verdana\"> <B>Task 2</B></font>\n",
    "## slice\n",
    "### `working_string[start:stop]`\n",
    "### `working_string[start:stop:step]`"
   ]
  },
  {
   "cell_type": "code",
   "execution_count": 4,
   "metadata": {},
   "outputs": [
    {
     "name": "stdout",
     "output_type": "stream",
     "text": [
      "Nep\n",
      "tune\n"
     ]
    }
   ],
   "source": [
    "# [x] print planet_name sliced into the first 3 characters and remaining characters\n",
    "planet_name = \"Neptune\"\n",
    "print(planet_name[:3])\n",
    "print(planet_name[3:])\n"
   ]
  },
  {
   "cell_type": "code",
   "execution_count": 5,
   "metadata": {},
   "outputs": [
    {
     "name": "stdout",
     "output_type": "stream",
     "text": [
      "Python\n"
     ]
    }
   ],
   "source": [
    "# [x] print 1st char and then every 3rd char of wise_words\n",
    "# use string slice with a step\n",
    "wise_words = 'Play it who opens'\n",
    "print(wise_words[0::3])\n"
   ]
  },
  {
   "cell_type": "code",
   "execution_count": 6,
   "metadata": {},
   "outputs": [
    {
     "name": "stdout",
     "output_type": "stream",
     "text": [
      "enutpeN\n"
     ]
    }
   ],
   "source": [
    "# [x] print planet_name in reverse\n",
    "print(planet_name[::-1])\n"
   ]
  },
  {
   "cell_type": "markdown",
   "metadata": {
    "collapsed": true
   },
   "source": [
    "# &nbsp;\n",
    "<font size=\"6\" color=\"#B24C00\"  face=\"verdana\"> <B>Task 3</B></font>\n",
    "\n",
    "## iterate a String\n",
    "### `for letter in sentence:`"
   ]
  },
  {
   "cell_type": "code",
   "execution_count": 11,
   "metadata": {},
   "outputs": [
    {
     "name": "stdout",
     "output_type": "stream",
     "text": [
      "What's your favourite food ? Pizza\n",
      "P\n",
      "i\n",
      "z\n",
      "z\n",
      "a\n"
     ]
    }
   ],
   "source": [
    "# [x] Get user input for 1 fav_food\n",
    "# [x] iterate through letters in fav_food \n",
    "#    - print each letter on a new line\n",
    "fav_food = input(\"What's your favourite food ? \")\n",
    "for a in fav_food:\n",
    "    print(a)"
   ]
  },
  {
   "cell_type": "code",
   "execution_count": 14,
   "metadata": {},
   "outputs": [
    {
     "name": "stdout",
     "output_type": "stream",
     "text": [
      "Good-code-is-commented-code\n"
     ]
    }
   ],
   "source": [
    "# [x] iterate work_tip string concatenate each letter to variable: new_string \n",
    "# [x] concatenate the letter or a \"-\" instead of a space \" \"\n",
    "# tip: concatenate string example: word = word + \"a\"\n",
    "work_tip = \"Good code is commented code\"\n",
    "new_string = \"\"\n",
    "for a in work_tip:\n",
    "    if a == \" \":\n",
    "        a = \"-\"\n",
    "    new_string += a\n",
    "print(new_string)"
   ]
  },
  {
   "cell_type": "code",
   "execution_count": 17,
   "metadata": {},
   "outputs": [
    {
     "name": "stdout",
     "output_type": "stream",
     "text": [
      "H\n",
      "i\n",
      "r\n",
      "o\n"
     ]
    }
   ],
   "source": [
    "# [x] Print the first 4 letters of name on new line\n",
    "name = \"Hiroto\"\n",
    "for a in name[:4]:\n",
    "    print (a)"
   ]
  },
  {
   "cell_type": "code",
   "execution_count": 20,
   "metadata": {},
   "outputs": [
    {
     "name": "stdout",
     "output_type": "stream",
     "text": [
      "ioo\n"
     ]
    }
   ],
   "source": [
    "# [x] Print every other letter from 2nd to last letter of name \n",
    "name = \"Hiroto\"\n",
    "other = \"\"\n",
    "for a in name[1::2]:\n",
    "    other += a\n",
    "print(other)\n",
    "    "
   ]
  },
  {
   "cell_type": "markdown",
   "metadata": {},
   "source": [
    "# &nbsp;\n",
    "<font size=\"6\" color=\"#B24C00\"  face=\"verdana\"> <B>Task 4</B></font>\n",
    "\n",
    "## Program: Mystery Name\n",
    "- get user input for first_name\n",
    "- create an empty string variable: new_name\n",
    "- iterate through letters in first_name Backwards \n",
    "  - add each letter to new_name as you iterate\n",
    "  - Replace the letter if \"e\", \"t\" or \"a\" with \"?\" *(hint: if, elif, elif, else)*\n",
    "- print new_name  \n",
    "\n",
    "**example: \"Alton\" = \"no?l?\"**"
   ]
  },
  {
   "cell_type": "code",
   "execution_count": 23,
   "metadata": {},
   "outputs": [
    {
     "name": "stdout",
     "output_type": "stream",
     "text": [
      "What is your first name ? Alton\n",
      "no?l?\n"
     ]
    }
   ],
   "source": [
    "# [x] Create Mystery Name\n",
    "first_name = input(\"What is your first name ? \")\n",
    "new_name = \"\"\n",
    "for a in first_name[::-1]:\n",
    "    if a.lower() == \"e\":\n",
    "        a = \"?\"\n",
    "    if a.lower() == \"t\":\n",
    "        a = \"?\"\n",
    "    if a.lower() == \"a\":\n",
    "        a = \"?\"\n",
    "    new_name += a\n",
    "print (new_name)"
   ]
  },
  {
   "cell_type": "markdown",
   "metadata": {},
   "source": [
    "# &nbsp;\n",
    "<font size=\"6\" color=\"#B24C00\"  face=\"verdana\"> <B>Task 4</B></font>\n",
    "## `len(), .find(), .count()`   \n",
    "\n",
    "```  \n",
    "- len(working_string)\n",
    "- .find(\"i\")\n",
    "- .find(\"i\",start)\n",
    "- .find(\"i\", start, end)\n",
    "- .count(\"i\")\n",
    "- .count(\"i\", start)\n",
    "- .count(\"i\", start, end)\n",
    "```   "
   ]
  },
  {
   "cell_type": "code",
   "execution_count": 24,
   "metadata": {},
   "outputs": [
    {
     "name": "stdout",
     "output_type": "stream",
     "text": [
      "36\n"
     ]
    }
   ],
   "source": [
    "# [x] find and display the length of the string: topic\n",
    "topic = \"len() returns the length of a string\"\n",
    "print(len(topic))"
   ]
  },
  {
   "cell_type": "code",
   "execution_count": 28,
   "metadata": {},
   "outputs": [
    {
     "name": "stdout",
     "output_type": "stream",
     "text": [
      "28\n"
     ]
    }
   ],
   "source": [
    "# [x] use len() to find and display the mid_pt (middle) index (+/- 1) of the string: topic\n",
    "# note: index values are whole numbers\n",
    "topic = \"len() can take a sequence, like a string, as an argument\"\n",
    "print(str(int(len(topic)/2)))"
   ]
  },
  {
   "cell_type": "code",
   "execution_count": 29,
   "metadata": {},
   "outputs": [
    {
     "data": {
      "text/plain": [
       "5"
      ]
     },
     "execution_count": 29,
     "metadata": {},
     "output_type": "execute_result"
    }
   ],
   "source": [
    "# [x] print index where first instance of the word \"code\" starts using .find()\n",
    "work_tip = \"Good code is commented code\"\n",
    "work_tip.find(\"code\")"
   ]
  },
  {
   "cell_type": "code",
   "execution_count": 35,
   "metadata": {},
   "outputs": [
    {
     "name": "stdout",
     "output_type": "stream",
     "text": [
      "5\n",
      "code_index = 23\n"
     ]
    }
   ],
   "source": [
    "# [x] search for \"code\" in code_tip using .find() \n",
    "# [x] search substring with substring index start= 13,end = last char \n",
    "# [x] save result in variable: code_index\n",
    "# [x] display index of where \"code\" is found, or print \"not found\" if code_index == -1\n",
    "work_tip = \"Good code is commented code\"\n",
    "print(work_tip.find(\"code\"))\n",
    "code_index = work_tip.find(\"code\",13)\n",
    "if code_index == -1:\n",
    "    print(\"not found\")\n",
    "else:\n",
    "    print (\"code_index =\",code_index)"
   ]
  },
  {
   "cell_type": "markdown",
   "metadata": {
    "collapsed": true
   },
   "source": [
    "# &nbsp;\n",
    "<font size=\"6\" color=\"#B24C00\"  face=\"verdana\"> <B>Task 5</B></font>"
   ]
  },
  {
   "cell_type": "code",
   "execution_count": 42,
   "metadata": {},
   "outputs": [
    {
     "name": "stdout",
     "output_type": "stream",
     "text": [
      "Number of w's : 0\n",
      "Number of o's : 5\n",
      "Number of \"code\"'s : 2\n"
     ]
    }
   ],
   "source": [
    "# [x] find and report (print) number of w's, o's + use of word \"code\"\n",
    "work_tip = \"Good code is commented code\"\n",
    "print(\"Number of w's :\",work_tip.count(\"w\"))\n",
    "print(\"Number of o's :\",work_tip.count(\"o\"))\n",
    "print('Number of \"code\"\\'s :',work_tip.count(\"code\"))"
   ]
  },
  {
   "cell_type": "code",
   "execution_count": 22,
   "metadata": {},
   "outputs": [
    {
     "name": "stdout",
     "output_type": "stream",
     "text": [
      "code_tip: code a conditional decision like you would say it\n",
      "Number of i's : 6\n",
      "Indexes of i's: 11 13 22 24 29 47 \n"
     ]
    }
   ],
   "source": [
    "# [x]  count times letter \"i\" appears in code_tip string\n",
    "# [x] find and display the index of all the letter i's in code_tip\n",
    "# Remember: if .find(\"i\") has No Match, -1 is returned\n",
    "code_tip = \"code a conditional decision like you would say it\"\n",
    "index_i = \"\"\n",
    "code_index = 0\n",
    "print (\"code_tip:\" , code_tip)\n",
    "print(\"Number of i's :\",code_tip.count(\"i\"))\n",
    "while code_tip.find(\"i\",code_index+1) != -1:\n",
    "    code_index = code_tip.find(\"i\",code_index+1)\n",
    "    index_i += str(code_index)+\" \"\n",
    "print (\"Indexes of i's:\",index_i)"
   ]
  },
  {
   "cell_type": "markdown",
   "metadata": {},
   "source": [
    "# &nbsp;\n",
    "<font size=\"6\" color=\"#B24C00\"  face=\"verdana\"> <B>Task 6</B></font>\n",
    "\n",
    "## Program: Words after \"G\"/\"g\"\n",
    "Create a program inputs a phrase (like a famous quotation) and prints all of the words that start with h-z\n",
    "\n",
    "Sample input:  \n",
    "`enter a 1 sentence quote, non-alpha separate words:` **`Wheresoever you go, go with all your heart`**  \n",
    "\n",
    "Sample output:\n",
    "```\n",
    "WHERESOEVER\n",
    "YOU\n",
    "WITH\n",
    "YOUR\n",
    "HEART\n",
    "```\n",
    "- split the words by building a placeholder variable: **`word`**  \n",
    "  - loop each character in the input string  \n",
    "  - check if character is a letter  \n",
    "  - add a letter to **`word`** each loop until a non-alpha char is encountered  \n",
    "\n",
    "- **if** character is alpha \n",
    "  - add character to **`word`**    \n",
    "  - non-alpha detected (space, punctuation, digit,...) defines the end of a word and goes to **`else`**    \n",
    "- **`else`**  \n",
    "  - check **`if`** word is greater than \"g\" alphabetically\n",
    "      - print word \n",
    "      - set word = empty string\n",
    "  - or **else** \n",
    "    - set word = empty string and build the next word  \n",
    "\n",
    "Hint: use `.lower()`"
   ]
  },
  {
   "cell_type": "code",
   "execution_count": 97,
   "metadata": {},
   "outputs": [
    {
     "name": "stdout",
     "output_type": "stream",
     "text": [
      "enter a 1 sentence quote, non-alpha separate words : Wheresoever you go, go with all your heart\n",
      "WHERESOEVER\n",
      "YOU\n",
      "WITH\n",
      "YOUR\n",
      "HEART\n"
     ]
    }
   ],
   "source": [
    "# [x] create words after \"G\"\n",
    "#quote=\"Wheresoever you go, go with all your heart\" ~ Confucius (551 BC - 479 BC)\n",
    "def rearrange(word):\n",
    "    a=\"\"\n",
    "\n",
    "\n",
    "def words_after_g(quote):\n",
    "    a = \"\"\n",
    "    result = \"\"\n",
    "    start = 0\n",
    "    space_index = quote.find(\" \")\n",
    "    while space_index != -1:\n",
    "        word = quote[start:space_index]\n",
    "        if word[0].lower() <= \"g\":\n",
    "            result += \"\"\n",
    "        else:\n",
    "            for x in word:\n",
    "                if x.isalpha() is False:\n",
    "                    result += \"\"\n",
    "                result += x\n",
    "            result += \"\\n\"\n",
    "        start = space_index+1\n",
    "        space_index = quote.find(\" \",start)\n",
    "    result += quote[start:]\n",
    "    print(result.upper())\n",
    "\n",
    "quote = input(\"enter a 1 sentence quote, non-alpha separate words : \")\n",
    "words_after_g(quote)"
   ]
  },
  {
   "cell_type": "markdown",
   "metadata": {
    "collapsed": true
   },
   "source": [
    "[Terms of use](http://go.microsoft.com/fwlink/?LinkID=206977) &nbsp; [Privacy & cookies](https://go.microsoft.com/fwlink/?LinkId=521839) &nbsp; © 2017 Microsoft"
   ]
  }
 ],
 "metadata": {
  "anaconda-cloud": {},
  "kernelspec": {
   "display_name": "Python 3",
   "language": "python",
   "name": "python3"
  },
  "language_info": {
   "codemirror_mode": {
    "name": "ipython",
    "version": 3
   },
   "file_extension": ".py",
   "mimetype": "text/x-python",
   "name": "python",
   "nbconvert_exporter": "python",
   "pygments_lexer": "ipython3",
   "version": "3.7.0"
  }
 },
 "nbformat": 4,
 "nbformat_minor": 1
}
