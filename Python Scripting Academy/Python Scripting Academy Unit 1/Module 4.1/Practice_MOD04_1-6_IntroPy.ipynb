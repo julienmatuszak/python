{
 "cells": [
  {
   "cell_type": "markdown",
   "metadata": {},
   "source": [
    "# 1-6.2 Intro Python Practice\n",
    "## Nested Conditionals\n",
    "<font size=\"5\" color=\"#00A0B2\"  face=\"verdana\"> <B>Student will be able to</B></font>\n",
    "- create nested conditional logic in code  \n",
    "- print format print using escape sequence (**\\**)"
   ]
  },
  {
   "cell_type": "markdown",
   "metadata": {},
   "source": [
    "# &nbsp;\n",
    "<font size=\"6\" color=\"#B24C00\"  face=\"verdana\"> <B>Tasks</B></font>  "
   ]
  },
  {
   "cell_type": "code",
   "execution_count": 3,
   "metadata": {},
   "outputs": [
    {
     "name": "stdout",
     "output_type": "stream",
     "text": [
      "The new line character is \"\\n\"\n"
     ]
    }
   ],
   "source": [
    "# [x] print a string that outputs the following exactly: The new line character is \"\\n\"\n",
    "print(\"The new line character is \\\"\\\\n\\\"\")\n"
   ]
  },
  {
   "cell_type": "code",
   "execution_count": 5,
   "metadata": {},
   "outputs": [
    {
     "name": "stdout",
     "output_type": "stream",
     "text": [
      "\"That's how we escape!\"\n"
     ]
    }
   ],
   "source": [
    "# [x] print output that is exactly (with quotes): \"That's how we escape!\"\n",
    "print(\"\\\"That\\'s how we escape!\\\"\")\n"
   ]
  },
  {
   "cell_type": "code",
   "execution_count": 7,
   "metadata": {},
   "outputs": [
    {
     "name": "stdout",
     "output_type": "stream",
     "text": [
      "1\tone\n",
      "22\ttwo\n",
      "333\tthree\n"
     ]
    }
   ],
   "source": [
    "# [x] with only 1 print statement and using No Space Characters, output the text commented below  \n",
    "\n",
    "# 1       one\n",
    "# 22      two\n",
    "# 333     three\n",
    "print(\"1\\tone\\n22\\ttwo\\n333\\tthree\")\n",
    "\n"
   ]
  },
  {
   "cell_type": "markdown",
   "metadata": {},
   "source": [
    "# &nbsp;\n",
    "## Program: quote_me() Function\n",
    "quote_me takes a string argument and returns a string that will display surrounded with **added double quotes** if printed  \n",
    "- check if passed string starts with a double quote (`\"\\\"\"`), then surround string with single quotations \n",
    "- if the passed string starts with single quote, or if doesn't start with a quotation mark, then surround with double quotations  \n",
    "\n",
    "Test the function code passing string input as the argument to quote_me() "
   ]
  },
  {
   "cell_type": "code",
   "execution_count": 10,
   "metadata": {},
   "outputs": [
    {
     "name": "stdout",
     "output_type": "stream",
     "text": [
      "enter a string to quotethat\n",
      "\"that\"\n"
     ]
    }
   ],
   "source": [
    "# [x] create and test quote_me()\n",
    "def quote_me(string):\n",
    "    return \"\\\"\"+string+\"\\\"\"\n",
    "\n",
    "string=input(\"enter a string to quote\")\n",
    "print(quote_me(string))\n",
    "\n"
   ]
  },
  {
   "cell_type": "markdown",
   "metadata": {},
   "source": [
    "# &nbsp;\n",
    "### Program: shirt order \n",
    "First get input for color and size  \n",
    "- White has sizes L, M \n",
    "- Blue has sizes M, S  \n",
    "\n",
    "print available or unavailable, then  \n",
    "print the order confirmation of color and size  \n",
    "\n",
    "*\n",
    "**hint**: set a variable \"available = False\" before nested if statements and  \n",
    "change to True if color and size are avaliable*"
   ]
  },
  {
   "cell_type": "code",
   "execution_count": 25,
   "metadata": {},
   "outputs": [
    {
     "name": "stdout",
     "output_type": "stream",
     "text": [
      "Choose your color (White, Blue) : blue\n",
      "Choose your size (S,M,L) : s\n",
      "Your color is available\n",
      "Your size is available\n",
      "We will order a blue shirt size S\n"
     ]
    }
   ],
   "source": [
    "# [x] create shirt order using nested if \n",
    "def shirt_order(color,size):\n",
    "    if color.lower() == 'white':\n",
    "        color_available = True\n",
    "        if size.lower() == 's':\n",
    "            size_available = False\n",
    "        elif size.lower() == 'm':\n",
    "            size_available = True\n",
    "        elif size.lower() == 'l':\n",
    "            size_available = True\n",
    "        else:\n",
    "            size_available = False\n",
    "    elif color.lower() == 'blue':\n",
    "        color_available = True\n",
    "        if size.lower() == 's':\n",
    "            size_available = True\n",
    "        elif size.lower() == 'm':\n",
    "            size_available = True\n",
    "        elif size.lower() == 'l':\n",
    "            size_available = False\n",
    "        else:\n",
    "            size_available = False\n",
    "    else:\n",
    "        color_available = False\n",
    "    if color_available == True:\n",
    "        print(\"Your color is available\")\n",
    "        if size_available == True:\n",
    "            print(\"Your size is available\\nWe will order a \"+color.lower()+\" shirt size \"+size.upper())\n",
    "        else:\n",
    "            print(\"Sorry, your size is not available\")\n",
    "    else:\n",
    "        print(\"Sorry, your color is not available\")\n",
    "\n",
    "color = input(\"Choose your color (White, Blue) : \")\n",
    "size = input(\"Choose your size (S,M,L) : \")\n",
    "shirt_order(color,size)\n",
    "    \n"
   ]
  },
  {
   "cell_type": "markdown",
   "metadata": {},
   "source": [
    "# &nbsp;\n",
    "## Program: str_analysis() Function\n",
    "Create the str_analysis() function that takes a string argument.  In the body of the function:\n",
    "- Check `if` string is digits  \n",
    "  - if digits: convert to `int` and check `if` greater than 99  \n",
    "    - if greater than 99, print a message about a \"big number\"  \n",
    "    - if not greater than 99, print message about \"small number\"    \n",
    "  - if not digits: check if string isalpha\n",
    "    - if isalpha print message about being all alpha\n",
    "    - if not isalpha print a message about being neither all alpha nor all digit  \n",
    "    \n",
    "call the function with a string from user input "
   ]
  },
  {
   "cell_type": "code",
   "execution_count": 33,
   "metadata": {},
   "outputs": [
    {
     "name": "stdout",
     "output_type": "stream",
     "text": [
      "Enter something : string\n",
      "Your something is all alpha\n"
     ]
    }
   ],
   "source": [
    "# [x] create and test str_analysis()\n",
    "def str_analysis(sod):\n",
    "    if sod.isdigit():\n",
    "        sod = int(sod)\n",
    "        if sod > 99:\n",
    "            print(\"Your something is a big number\")\n",
    "        else:\n",
    "            print(\"Your something is a small number\")\n",
    "    elif sod.isalpha():\n",
    "        print(\"Your something is all alpha\")\n",
    "    else:\n",
    "        print(\"Your something is neither all alpha nor all string\")\n",
    "\n",
    "str_or_digit = input(\"Enter something : \")\n",
    "str_analysis(str_or_digit)\n",
    "\n"
   ]
  },
  {
   "cell_type": "markdown",
   "metadata": {
    "collapsed": true
   },
   "source": [
    "# &nbsp;  \n",
    "### Program: ticket_check() - finds out if a seat is available  \n",
    "Call ticket_check() function with 2 arguments: *section* and *seats* requested and return True or False  \n",
    "- **section** is a string and expects: general, floor\n",
    "- **seats** is an integer and expects: 1 - 10  \n",
    "\n",
    "Check for valid section and seats\n",
    "- if section is *general* (or use startswith \"g\")  \n",
    "  - if seats is 1-10 return True \n",
    "- if section is *floor* (or use starts with \"f\")\n",
    "  - if seats is 1-4 return True  \n",
    "\n",
    "otherwise return False"
   ]
  },
  {
   "cell_type": "code",
   "execution_count": 41,
   "metadata": {},
   "outputs": [
    {
     "name": "stdout",
     "output_type": "stream",
     "text": [
      "What's your section, floor or general (f/g) ? g\n",
      "What's your seat number ? 5\n",
      "True\n"
     ]
    }
   ],
   "source": [
    "# [x] create and call ticket_check()\n",
    "def ticket_check(section,seats):\n",
    "    if section.startswith('g'):\n",
    "        if seats>=1:\n",
    "            if seats<=10:\n",
    "                return True\n",
    "            else:\n",
    "                return False\n",
    "        else:\n",
    "            return False\n",
    "    elif section.startswith('f'):\n",
    "        if seats>=1:\n",
    "            if seats<=4:\n",
    "                return True\n",
    "            else:\n",
    "                return False\n",
    "        else:\n",
    "            return False\n",
    "    else:\n",
    "        print(\"Sorry, you chose a wrong section\")\n",
    "\n",
    "section = input(\"What's your section, floor or general (f/g) ? \")\n",
    "seats = int(input(\"What's your seat number ? \"))\n",
    "print(ticket_check(section,seats))\n"
   ]
  },
  {
   "cell_type": "markdown",
   "metadata": {
    "collapsed": true
   },
   "source": [
    "[Terms of use](http://go.microsoft.com/fwlink/?LinkID=206977) &nbsp; [Privacy & cookies](https://go.microsoft.com/fwlink/?LinkId=521839) &nbsp; © 2017 Microsoft"
   ]
  }
 ],
 "metadata": {
  "anaconda-cloud": {},
  "kernelspec": {
   "display_name": "Python 3",
   "language": "python",
   "name": "python3"
  },
  "language_info": {
   "codemirror_mode": {
    "name": "ipython",
    "version": 3
   },
   "file_extension": ".py",
   "mimetype": "text/x-python",
   "name": "python",
   "nbconvert_exporter": "python",
   "pygments_lexer": "ipython3",
   "version": "3.7.0"
  }
 },
 "nbformat": 4,
 "nbformat_minor": 1
}
