{
 "cells": [
  {
   "cell_type": "markdown",
   "metadata": {},
   "source": [
    "# 1-7.2 Intro Python Practice\n",
    "## `while()` loops & increments\n",
    "<font size=\"5\" color=\"#00A0B2\"  face=\"verdana\"> <B>Student will be able to</B></font>\n",
    "- create forever loops using `while` and `break`\n",
    "- use incrementing variables in a while loop\n",
    "- control while loops using Boolean operators"
   ]
  },
  {
   "cell_type": "code",
   "execution_count": 16,
   "metadata": {},
   "outputs": [
    {
     "name": "stdout",
     "output_type": "stream",
     "text": [
      "Enter a digit : 1\n",
      "Enter a digit : 2\n",
      "Enter a digit : 3\n",
      "Enter a digit : 4\n",
      "Enter a digit : 5\n",
      "Enter a digit : 6\n",
      "Enter a digit : 7\n",
      "Enter a digit : 8\n",
      "Enter a digit : 9\n",
      "Enter a digit : 0\n",
      "Enter a digit : q\n",
      "45\n"
     ]
    }
   ],
   "source": [
    "# [x] use a \"forever\" while loop to get user input of integers to add to sum, \n",
    "# until a non-digit is entered, then break the loop and print sum\n",
    "sum = 0\n",
    "while True:\n",
    "    added_num = input(\"Enter a digit : \")\n",
    "    if added_num.isdigit() is False:\n",
    "        break\n",
    "    else:\n",
    "        sum += int(added_num)\n",
    "print(sum)\n"
   ]
  },
  {
   "cell_type": "code",
   "execution_count": 4,
   "metadata": {},
   "outputs": [
    {
     "name": "stdout",
     "output_type": "stream",
     "text": [
      "Guess the color in the rainbow : pink\n",
      "You have 3 guesses left\n",
      "Guess the color in the rainbow : red\n",
      "Congratulations, you found one color of the rainbow after 3 guesses!\n"
     ]
    }
   ],
   "source": [
    "# [x] use a while True loop (forever loop) to give 4 chances for input of a correct color in a rainbow\n",
    "rainbow = \"red orange yellow green blue indigo violet\"\n",
    "i = 4\n",
    "while True:\n",
    "    if i == 0:\n",
    "        print(\"You didn't find any color of the rainbow after 4 guesses. You lost!\")\n",
    "        break\n",
    "    guess = input(\"Guess the color in the rainbow : \")\n",
    "    if guess in rainbow:\n",
    "        print(\"Congratulations, you found one color of the rainbow after \"+str(i)+\" guesses!\")\n",
    "        break\n",
    "    else:\n",
    "        i -= 1\n",
    "        print(\"You have\",str(i),\"guesses left\")\n",
    "    \n",
    "        \n",
    "        \n"
   ]
  },
  {
   "cell_type": "code",
   "execution_count": 6,
   "metadata": {},
   "outputs": [
    {
     "name": "stdout",
     "output_type": "stream",
     "text": [
      "Write a title, and don't forget that every word is capitalized : hello man\n",
      "Write a title, and don't forget that every word is capitalized : Hello man\n",
      "Write a title, and don't forget that every word is capitalized : Hello Man\n",
      "Congratulations, you managed to write your title!\n"
     ]
    }
   ],
   "source": [
    "# [x] Get input for a book title, keep looping while input is Not in title format (title is every word capitalized)\n",
    "title = \"\"\n",
    "while title.istitle() is False:\n",
    "    title = input(\"Write a title, and don't forget that every word is capitalized : \")\n",
    "print(\"Congratulations, you managed to write your title!\")\n",
    "\n"
   ]
  },
  {
   "cell_type": "code",
   "execution_count": 12,
   "metadata": {},
   "outputs": [
    {
     "name": "stdout",
     "output_type": "stream",
     "text": [
      "How much is 1 + 2 ? 1\n",
      "You don't have the correct result! Try again!\n",
      "How much is 1 + 2 ? 2\n",
      "You don't have the correct result! Try again!\n",
      "How much is 1 + 2 ? 3\n",
      "Well done! You found the right result!\n"
     ]
    }
   ],
   "source": [
    "# [x] create a math quiz question and ask for the solution until the input is correct\n",
    "guess = 0\n",
    "while guess != 1+2:\n",
    "    guess = int(input(\"How much is 1 + 2 ? \"))\n",
    "    if guess == 1+2:\n",
    "        break\n",
    "    print(\"You don't have the correct result! Try again!\")\n",
    "print(\"Well done! You found the right result!\")"
   ]
  },
  {
   "cell_type": "markdown",
   "metadata": {},
   "source": [
    "### Fix the Error"
   ]
  },
  {
   "cell_type": "code",
   "execution_count": 3,
   "metadata": {},
   "outputs": [
    {
     "name": "stdout",
     "output_type": "stream",
     "text": [
      "enter tickets remaining (0 to quit): 3\n",
      "you win!\n",
      "enter tickets remaining (0 to quit): 2\n",
      "sorry, not a winner.\n",
      "enter tickets remaining (0 to quit): 5\n",
      "sorry, not a winner.\n",
      "enter tickets remaining (0 to quit): 4\n",
      "sorry, not a winner.\n",
      "enter tickets remaining (0 to quit): 1\n",
      "sorry, not a winner.\n",
      "enter tickets remaining (0 to quit): 6\n",
      "you win!\n",
      "enter tickets remaining (0 to quit): 0\n",
      "Game ended\n"
     ]
    }
   ],
   "source": [
    "# [x] review the code, run, fix the error\n",
    "tickets = int(input(\"enter tickets remaining (0 to quit): \"))\n",
    "\n",
    "while tickets > 0:\n",
    "        # if tickets are multiple of 3 then \"winner\"\n",
    "    if int(tickets/3) == tickets/3:\n",
    "        print(\"you win!\")\n",
    "    else:\n",
    "        print(\"sorry, not a winner.\")\n",
    "    tickets = int(input(\"enter tickets remaining (0 to quit): \"))\n",
    "\n",
    "print(\"Game ended\")"
   ]
  },
  {
   "cell_type": "markdown",
   "metadata": {},
   "source": [
    "### create a function: quiz_item()  that asks a question and tests if input is correct  \n",
    "- quiz_item()has 2 parameter **strings**: question and solution  \n",
    "- shows question, gets answer input  \n",
    "- returns True if `answer == solution` or continues to ask question until correct answer is provided  \n",
    "- use a while loop\n",
    "\n",
    "create 2 or more quiz questions that call quiz_item()  \n",
    "**Hint**: provide multiple choice or T/F answers"
   ]
  },
  {
   "cell_type": "code",
   "execution_count": null,
   "metadata": {},
   "outputs": [],
   "source": [
    "# Create quiz_item() and 2 or more quiz questions that call quiz_item()\n"
   ]
  },
  {
   "cell_type": "markdown",
   "metadata": {
    "collapsed": true
   },
   "source": [
    "[Terms of use](http://go.microsoft.com/fwlink/?LinkID=206977) &nbsp; [Privacy & cookies](https://go.microsoft.com/fwlink/?LinkId=521839) &nbsp; © 2017 Microsoft"
   ]
  }
 ],
 "metadata": {
  "anaconda-cloud": {},
  "kernelspec": {
   "display_name": "Python 3",
   "language": "python",
   "name": "python3"
  },
  "language_info": {
   "codemirror_mode": {
    "name": "ipython",
    "version": 3
   },
   "file_extension": ".py",
   "mimetype": "text/x-python",
   "name": "python",
   "nbconvert_exporter": "python",
   "pygments_lexer": "ipython3",
   "version": "3.7.0"
  }
 },
 "nbformat": 4,
 "nbformat_minor": 1
}
