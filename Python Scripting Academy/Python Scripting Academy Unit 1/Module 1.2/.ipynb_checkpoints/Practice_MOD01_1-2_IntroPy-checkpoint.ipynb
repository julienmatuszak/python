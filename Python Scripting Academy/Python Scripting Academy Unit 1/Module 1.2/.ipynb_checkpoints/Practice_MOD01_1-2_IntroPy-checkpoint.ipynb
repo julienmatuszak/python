{
 "cells": [
  {
   "cell_type": "markdown",
   "metadata": {},
   "source": [
    "# 1-2 Intro Python Practice\n",
    "## Strings: input, testing, formatting\n",
    "<font size=\"5\" color=\"#00A0B2\"  face=\"verdana\"> <B>Student will be able to</B></font>\n",
    "- gather, store and use string `input()`  \n",
    "- format `print()` output  \n",
    "- test string characteristics  \n",
    "- format string output  \n",
    "- search for a string in a string  "
   ]
  },
  {
   "cell_type": "markdown",
   "metadata": {},
   "source": [
    "## input()\n",
    "getting input from users"
   ]
  },
  {
   "cell_type": "code",
   "execution_count": 2,
   "metadata": {
    "scrolled": true
   },
   "outputs": [
    {
     "name": "stdout",
     "output_type": "stream",
     "text": [
      "remember\n",
      "remember\n"
     ]
    }
   ],
   "source": [
    "# [x] get user input for a variable named remind_me\n",
    "remind_me = input()\n",
    "\n",
    "# [x] print the value of the variable remind_me\n",
    "print(remind_me)\n"
   ]
  },
  {
   "cell_type": "code",
   "execution_count": 4,
   "metadata": {},
   "outputs": [
    {
     "name": "stdout",
     "output_type": "stream",
     "text": [
      "remember: remember\n"
     ]
    }
   ],
   "source": [
    "# use string addition to print \"remember: \" before the remind_me input string\n",
    "print(\"remember: \" + remind_me)\n"
   ]
  },
  {
   "cell_type": "markdown",
   "metadata": {},
   "source": [
    "### Program: Meeting Details\n",
    "#### [ ] get user **input** for meeting subject and time\n",
    "`what is the meeting subject?: plan for graduation`  \n",
    "`what is the meeting time?: 3:00 PM on Monday`  \n",
    "\n",
    "#### [ ] print **output** with descriptive labels  \n",
    "`Meeting Subject: plan for graduation`  \n",
    "`Meeting Time:    3:00 PM on Monday`"
   ]
  },
  {
   "cell_type": "code",
   "execution_count": 7,
   "metadata": {},
   "outputs": [
    {
     "name": "stdout",
     "output_type": "stream",
     "text": [
      "mathematics\n",
      "5PM\n",
      "mathematics at 5PM\n"
     ]
    }
   ],
   "source": [
    "# [x] get user input for 2 variables: meeting_subject and meeting_time\n",
    "meeting_subject = input()\n",
    "meeting_time = input()\n",
    "\n",
    "# [x] use string addition to print meeting subject and time with labels\n",
    "print(meeting_subject + \" at \" + meeting_time)\n"
   ]
  },
  {
   "cell_type": "markdown",
   "metadata": {
    "collapsed": true
   },
   "source": [
    "## print() formatting \n",
    "### combining multiple strings separated by commas in the print() function"
   ]
  },
  {
   "cell_type": "code",
   "execution_count": 8,
   "metadata": {},
   "outputs": [
    {
     "name": "stdout",
     "output_type": "stream",
     "text": [
      "Wednesday is in the middle of the week\n"
     ]
    }
   ],
   "source": [
    "# [x] print the combined strings \"Wednesday is\" and \"in the middle of the week\" \n",
    "print(\"Wednesday is\",\"in the middle of the week\")\n"
   ]
  },
  {
   "cell_type": "code",
   "execution_count": 9,
   "metadata": {},
   "outputs": [
    {
     "name": "stdout",
     "output_type": "stream",
     "text": [
      "Remember to remember\n"
     ]
    }
   ],
   "source": [
    "# [x] print combined string \"Remember to\" and the string variable remind_me from input above\n",
    "print(\"Remember to\", remind_me)\n"
   ]
  },
  {
   "cell_type": "code",
   "execution_count": 11,
   "metadata": {},
   "outputs": [
    {
     "name": "stdout",
     "output_type": "stream",
     "text": [
      "Remember! You have mathematics at 5PM\n"
     ]
    }
   ],
   "source": [
    "# [x] Combine 3 variables from above with multiple strings\n",
    "print(\"Remember! You have\",meeting_subject,\"at\",meeting_time)\n"
   ]
  },
  {
   "cell_type": "markdown",
   "metadata": {
    "collapsed": true
   },
   "source": [
    "### print() quotation marks"
   ]
  },
  {
   "cell_type": "code",
   "execution_count": 12,
   "metadata": {},
   "outputs": [
    {
     "name": "stdout",
     "output_type": "stream",
     "text": [
      "This is an apostrophe: '\n"
     ]
    }
   ],
   "source": [
    "# [x] print a string sentence that will display an Apostrophe (')\n",
    "print(\"This is an apostrophe: '\")\n",
    "\n"
   ]
  },
  {
   "cell_type": "code",
   "execution_count": 14,
   "metadata": {},
   "outputs": [
    {
     "name": "stdout",
     "output_type": "stream",
     "text": [
      "This is a quote: \"\n"
     ]
    }
   ],
   "source": [
    "# [x] print a string sentence that will display a quote(\") or quotes\n",
    "print('This is a quote: \"')\n",
    "\n"
   ]
  },
  {
   "cell_type": "markdown",
   "metadata": {
    "collapsed": true
   },
   "source": [
    "## Boolean string tests"
   ]
  },
  {
   "cell_type": "markdown",
   "metadata": {},
   "source": [
    "### Vehicle tests  \n",
    "#### get user input for a variable named vehicle  \n",
    "print the following tests results  \n",
    "- check True or False if vehicle is All alphabetical characters using .isalpha()  \n",
    "- check True or False if vehicle is only All alphabetical & numeric characters  \n",
    "- check True or False if vehicle is Capitalized (first letter only)  \n",
    "- check True or False if vehicle is All lowercase  \n",
    "- **bonus** print description for each test (e.g.- `\"All Alpha: True\"`)"
   ]
  },
  {
   "cell_type": "code",
   "execution_count": 2,
   "metadata": {},
   "outputs": [
    {
     "name": "stdout",
     "output_type": "stream",
     "text": [
      "What's your vehicle ? Renault5\n",
      "All Alpha: False\n",
      "All Alphanumeric: True\n",
      "Capitalized ? True\n",
      "All lowercase ? False\n"
     ]
    }
   ],
   "source": [
    "# [x] complete vehicle tests \n",
    "vehicle = input(\"What's your vehicle ? \")\n",
    "print(\"All Alpha:\",vehicle.isalpha())\n",
    "print(\"All Alphanumeric:\",vehicle.isalnum())\n",
    "print(\"Capitalized ?\",vehicle.istitle())\n",
    "print(\"All lowercase ?\",vehicle.islower())"
   ]
  },
  {
   "cell_type": "code",
   "execution_count": 7,
   "metadata": {},
   "outputs": [
    {
     "name": "stdout",
     "output_type": "stream",
     "text": [
      "What's the color of your Renault5 ? Blue\n",
      "Color starts with \"b\" :  True\n"
     ]
    }
   ],
   "source": [
    "# [x] print True or False if color starts with \"b\" \n",
    "color = input(\"What's the color of your \" + vehicle + \" ? \")\n",
    "print('Color starts with \"b\" : ',vehicle.lower().islower())\n"
   ]
  },
  {
   "cell_type": "markdown",
   "metadata": {},
   "source": [
    "## Sting formatting"
   ]
  },
  {
   "cell_type": "code",
   "execution_count": 8,
   "metadata": {},
   "outputs": [
    {
     "data": {
      "text/plain": [
       "'The time is noon.'"
      ]
     },
     "execution_count": 8,
     "metadata": {},
     "output_type": "execute_result"
    }
   ],
   "source": [
    "# [x] print the string variable capitalize_this capitalizing only the first letter\n",
    "capitalize_this = \"the TIME is Noon.\"\n",
    "capitalize_this.capitalize()\n",
    "\n"
   ]
  },
  {
   "cell_type": "code",
   "execution_count": 9,
   "metadata": {},
   "outputs": [
    {
     "data": {
      "text/plain": [
       "'Who WRITES like This?'"
      ]
     },
     "execution_count": 9,
     "metadata": {},
     "output_type": "execute_result"
    }
   ],
   "source": [
    "# print the string variable swap_this in swapped case\n",
    "swap_this = \"wHO writes LIKE tHIS?\"\n",
    "swap_this.swapcase()\n",
    "\n"
   ]
  },
  {
   "cell_type": "code",
   "execution_count": 11,
   "metadata": {},
   "outputs": [
    {
     "data": {
      "text/plain": [
       "'can you hear me?'"
      ]
     },
     "execution_count": 11,
     "metadata": {},
     "output_type": "execute_result"
    }
   ],
   "source": [
    "# print the string variable whisper_this in all lowercase\n",
    "whisper_this = \"Can you hear me?\"\n",
    "whisper_this.lower()\n"
   ]
  },
  {
   "cell_type": "code",
   "execution_count": 12,
   "metadata": {},
   "outputs": [
    {
     "data": {
      "text/plain": [
       "'CAN YOU HEAR ME NOW!?'"
      ]
     },
     "execution_count": 12,
     "metadata": {},
     "output_type": "execute_result"
    }
   ],
   "source": [
    "# print the string variable yell_this in all UPPERCASE\n",
    "yell_this = \"Can you hear me Now!?\"\n",
    "yell_this.upper()\n",
    "\n"
   ]
  },
  {
   "cell_type": "code",
   "execution_count": 15,
   "metadata": {},
   "outputs": [
    {
     "name": "stdout",
     "output_type": "stream",
     "text": [
      "enter a string to reformat: Yes, I can hear you!\n"
     ]
    },
    {
     "data": {
      "text/plain": [
       "'Yes, i can hear you!'"
      ]
     },
     "execution_count": 15,
     "metadata": {},
     "output_type": "execute_result"
    }
   ],
   "source": [
    "#format input using .upper(), .lower(), .swapcase, .capitalize()\n",
    "format_input = input('enter a string to reformat: ')\n",
    "format_input.upper().lower().swapcase().capitalize()\n",
    "\n"
   ]
  },
  {
   "cell_type": "markdown",
   "metadata": {},
   "source": [
    "### input() formatting"
   ]
  },
  {
   "cell_type": "code",
   "execution_count": 18,
   "metadata": {},
   "outputs": [
    {
     "name": "stdout",
     "output_type": "stream",
     "text": [
      "What's the color of a white horse ? err, white?\n",
      "err, white?\n"
     ]
    }
   ],
   "source": [
    "# [x] get user input for a variable named color\n",
    "color = input(\"What's the color of a white horse ? \")\n",
    "# [x] modify color to be all lowercase and print\n",
    "print(color.lower())\n",
    "\n"
   ]
  },
  {
   "cell_type": "code",
   "execution_count": 20,
   "metadata": {},
   "outputs": [
    {
     "name": "stdout",
     "output_type": "stream",
     "text": [
      "What do I have to remember already ? This\n",
      "**this**\n"
     ]
    }
   ],
   "source": [
    "# [x] get user input using variable remind_me and format to all **lowercase** and print\n",
    "remind_me = input(\"What do I have to remember already ? \")\n",
    "print(\"**\"+remind_me.lower()+\"**\")\n",
    "# [x] test using input with mixed upper and lower cases\n",
    "\n"
   ]
  },
  {
   "cell_type": "code",
   "execution_count": 21,
   "metadata": {},
   "outputs": [
    {
     "name": "stdout",
     "output_type": "stream",
     "text": [
      "WHAT ARE YOU SAYING ? That!\n"
     ]
    },
    {
     "data": {
      "text/plain": [
       "'THAT!'"
      ]
     },
     "execution_count": 21,
     "metadata": {},
     "output_type": "execute_result"
    }
   ],
   "source": [
    "# [x] get user input for the variable yell_this and format as a \"YELL\" to ALL CAPS\n",
    "yell_this = input(\"WHAT ARE YOU SAYING ? \")\n",
    "yell_this.upper()\n"
   ]
  },
  {
   "cell_type": "markdown",
   "metadata": {},
   "source": [
    "## \"in\" keyword\n",
    "### boolean: short_str in long_str"
   ]
  },
  {
   "cell_type": "code",
   "execution_count": 24,
   "metadata": {},
   "outputs": [
    {
     "name": "stdout",
     "output_type": "stream",
     "text": [
      "Is cat in the list? : True\n"
     ]
    }
   ],
   "source": [
    "# [x] get user input for the name of some animals in the variable animals_input\n",
    "animals_input = 'bear, wolf, cat, octopus'\n",
    "\n",
    "# [x] print true or false if 'cat' is in the string variable animals_input\n",
    "print('Is cat in the list? :', 'cat' in animals_input)\n"
   ]
  },
  {
   "cell_type": "code",
   "execution_count": 38,
   "metadata": {},
   "outputs": [
    {
     "name": "stdout",
     "output_type": "stream",
     "text": [
      "Name your color : bLUE\n",
      "Does your color start with \"b\"? :  True\n"
     ]
    }
   ],
   "source": [
    "# [x] get user input for color\n",
    "color = input(\"Name your color : \")\n",
    "\n",
    "# [x] print True or False if color starts with \"b\"\n",
    "print('Does your color start with \"b\"? : ',color.startswith('b'))\n",
    "\n",
    "# [ ] print color variable value exactly as input \n",
    "#     test with input: \"Blue\", \"BLUE\", \"bLUE\"\n",
    "\n",
    "\n",
    "\n"
   ]
  },
  {
   "cell_type": "markdown",
   "metadata": {},
   "source": [
    "## Program: guess what I'm reading\n",
    "### short_str in long_str\n",
    "\n",
    "1. **[ ]** get user **`input`** for a single word describing something that can be read \n",
    " save in a variable called **can_read**  \n",
    " e.g. - \"website\", \"newspaper\", \"blog\", \"textbook\"  \n",
    " &nbsp;  \n",
    "2. **[ ]** get user **`input`** for 3 things can be read  \n",
    " save in a variable called **can_read_things**  \n",
    "&nbsp;  \n",
    "\n",
    "3. **[ ]** print **`true`** if the **can_read** string is found  \n",
    " **in** the **can_read_things** string variable\n",
    "  \n",
    "*example of program input and output*  \n",
    "[![01 02 practice Allergy-input](https://iajupyterprodblobs.blob.core.windows.net/imagecontainer/guess_reading.gif) ](https://1drv.ms/i/s!Am_KPRosgtaij7A_G6RtDlWZeYA3ZA)\n"
   ]
  },
  {
   "cell_type": "code",
   "execution_count": 6,
   "metadata": {},
   "outputs": [
    {
     "name": "stdout",
     "output_type": "stream",
     "text": [
      "enter 1 word item that can be read:word\n",
      "enter 3 items that can be read:word, sentence, letter\n",
      "True\n",
      "item found =  True\n"
     ]
    }
   ],
   "source": [
    "# project: \"guess what I'm reading\"\n",
    "# 1[x] get 1 word input for can_read variable\n",
    "can_read = input(\"enter 1 word item that can be read:\")\n",
    "# 2[x] get 3 things input for can_read_things variable\n",
    "can_read_things = input(\"enter 3 items that can be read:\")\n",
    "# 3[x] print True if can_read is in can_read_things\n",
    "print(can_read in can_read_things)\n",
    "# [x] challenge: format the output to read \"item found = True\" (or false)\n",
    "print(\"item found = \", can_read in can_read_things)\n",
    "# hint: look print formatting exercises\n",
    "\n"
   ]
  },
  {
   "cell_type": "markdown",
   "metadata": {},
   "source": [
    "## Program: Allergy Check\n",
    "\n",
    "1. **[ ]** get user **`input`** for categories of food eaten in the last 24 hours  \n",
    " save in a variable called **input_test**  \n",
    " *example input*\n",
    " [![01 02 practice Allergy-input](https://iajupyterprodblobs.blob.core.windows.net/imagecontainer/eaten_input.gif) ](https://1drv.ms/i/s!Am_KPRosgtaij65qzFD5CGvv95-ijg)\n",
    "&nbsp;  \n",
    "2. **[ ]** print **`True`** if \"dairy\" is in the **input_test** string  \n",
    "**[ ]** Test the code so far  \n",
    "&nbsp;\n",
    "3. **[ ]** modify the print statement to output similar to below  \n",
    "*example output*\n",
    "[![01 02 Allergy output](https://iajupyterprodblobs.blob.core.windows.net/imagecontainer/eaten_output.gif) ](https://1drv.ms/i/s!Am_KPRosgtaij65rET-wmlpCdMX7CQ)  \n",
    "Test the code so far trying input including the string \"dairy\" and without  \n",
    "&nbsp;  \n",
    "\n",
    "4. **[ ]** repeat the process checking the input for \"nuts\", **challenge** add \"Seafood\" and \"chocolate\"  \n",
    "**[ ]** Test your code  \n",
    "&nbsp;  \n",
    "  \n",
    "5. **[ ] challenge:** make your code work for input regardless of case, e.g. - print **`True`** for \"Nuts\", \"NuTs\", \"NUTS\" or \"nuts\"  \n"
   ]
  },
  {
   "cell_type": "code",
   "execution_count": 12,
   "metadata": {},
   "outputs": [
    {
     "name": "stdout",
     "output_type": "stream",
     "text": [
      "enter some things eaten in the last 24 hours: Nuts, cHOcolate, dAIRY\n",
      "True\n",
      "True\n",
      "seafood is in the input:  False\n",
      "chocolate is in the input:  True\n"
     ]
    }
   ],
   "source": [
    "# Allergy check \n",
    "\n",
    "# 1[x] get input for test\n",
    "input_test = input(\"enter some things eaten in the last 24 hours: \").lower()\n",
    "\n",
    "# 2/3[x] print True if \"dairy\" is in the input or False if not\n",
    "print(\"dairy\" in input_test)\n",
    "\n",
    "# 4[x] Check if \"nuts\" are in the input\n",
    "print('nuts' in input_test)\n",
    "\n",
    "# 4+[x] Challenge: Check if \"seafood\" is in the input\n",
    "print(\"seafood is in the input: \", 'seafood' in input_test)\n",
    "\n",
    "# 4+[x] Challenge: Check if \"chocolate\" is in the input\n",
    "print(\"chocolate is in the input: \", 'chocolate' in input_test)\n",
    "\n",
    "# 5[x] Challenge: make your code work for input regardless of case, e.g. - print True for \"Nuts\", \"NuTs\", \"NUTS\" or \"nuts\"\n",
    "\n"
   ]
  },
  {
   "cell_type": "markdown",
   "metadata": {},
   "source": [
    "[Terms of use](http://go.microsoft.com/fwlink/?LinkID=206977) &nbsp; [Privacy & cookies](https://go.microsoft.com/fwlink/?LinkId=521839) &nbsp; © 2017 Microsoft"
   ]
  }
 ],
 "metadata": {
  "anaconda-cloud": {},
  "kernelspec": {
   "display_name": "Python 3",
   "language": "python",
   "name": "python3"
  },
  "language_info": {
   "codemirror_mode": {
    "name": "ipython",
    "version": 3
   },
   "file_extension": ".py",
   "mimetype": "text/x-python",
   "name": "python",
   "nbconvert_exporter": "python",
   "pygments_lexer": "ipython3",
   "version": "3.7.0"
  }
 },
 "nbformat": 4,
 "nbformat_minor": 1
}
