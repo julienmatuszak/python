{
 "cells": [
  {
   "cell_type": "markdown",
   "metadata": {},
   "source": [
    "# 1-4.3 Intro Python Practice\n",
    "## Conditionals \n",
    "<font size=\"5\" color=\"#00A0B2\"  face=\"verdana\"> <B>Student will be able to</B></font>  \n",
    "- **control code flow with `if`... `else` conditional logic**  \n",
    "  - using Boolean string methods (`.isupper(), .isalpha(), .startswith()...`)  \n",
    "  - using comparision (`>, <, >=, <=, ==, !=`)  \n",
    "  - using Strings in comparisons  "
   ]
  },
  {
   "cell_type": "markdown",
   "metadata": {},
   "source": [
    "## `if else`\n"
   ]
  },
  {
   "cell_type": "code",
   "execution_count": 3,
   "metadata": {},
   "outputs": [
    {
     "name": "stdout",
     "output_type": "stream",
     "text": [
      "What is your age ? 11\n",
      "It is good to be 11\n"
     ]
    }
   ],
   "source": [
    "# [x] input a variable: age as digit and cast to int\n",
    "# if age greater than or equal to 12 then print message on age in 10 years \n",
    "# or else print message \"It is good to be\" age\n",
    "age = int(input(\"What is your age ? \"))\n",
    "if age >= 12:\n",
    "    print(\"In 10 years, you will be\", age+10)\n",
    "else:\n",
    "    print(\"It is good to be\",age)\n",
    "\n",
    "\n",
    "\n",
    "\n"
   ]
  },
  {
   "cell_type": "code",
   "execution_count": 8,
   "metadata": {},
   "outputs": [
    {
     "name": "stdout",
     "output_type": "stream",
     "text": [
      "Give me a number : 101\n",
      "101 greater than 100 is True\n"
     ]
    }
   ],
   "source": [
    "# [x] input a number \n",
    "# if number IS a digit string then cast to int\n",
    "# print number \"greater than 100 is\" True/False\n",
    "# if number is NOT a digit string then message the user that \"only int is accepted\"\n",
    "num = int(input(\"Give me a number : \"))\n",
    "if type(num) == str:\n",
    "    num = int(num)\n",
    "if num > 100:\n",
    "    print(num,\"greater than 100 is\",num>100)\n",
    "else:\n",
    "    print(num,\"greater than 100 is\",num>100)\n",
    "\n"
   ]
  },
  {
   "cell_type": "markdown",
   "metadata": {},
   "source": [
    "### Guessing a letter A-Z  \n",
    "**check_guess()** takes 2 string arguments: **letter and guess** (both expect single alphabetical character)   \n",
    "    - if guess is not an alpha character print invalid and return False\n",
    "    - test and print if guess is \"high\" or \"low\" and return False\n",
    "    - test and print if guess is \"correct\" and return True"
   ]
  },
  {
   "cell_type": "code",
   "execution_count": 34,
   "metadata": {},
   "outputs": [
    {
     "name": "stdout",
     "output_type": "stream",
     "text": [
      "correct True\n",
      "low\n",
      "high\n",
      "invalid\n"
     ]
    }
   ],
   "source": [
    "# [x] create check_guess()\n",
    "# call with test\n",
    "def check_guess(letter,guess):\n",
    "    letter = str(letter)\n",
    "    guess = str(guess)\n",
    "    if letter.isalpha() is False:\n",
    "        print(\"invalid\")\n",
    "    else:\n",
    "        if guess.isalpha() is False:\n",
    "            print(\"invalid\")\n",
    "        else:\n",
    "            if letter == guess:\n",
    "                print(\"correct\", letter == guess)\n",
    "            if letter != guess:\n",
    "                if guess < letter:\n",
    "                    print(\"low\")\n",
    "                else:\n",
    "                    print(\"high\")\n",
    "        \n",
    "check_guess('m','m')\n",
    "check_guess('m','b')\n",
    "check_guess('m','w')\n",
    "check_guess(2,'m')\n"
   ]
  },
  {
   "cell_type": "code",
   "execution_count": 38,
   "metadata": {},
   "outputs": [
    {
     "name": "stdout",
     "output_type": "stream",
     "text": [
      "Ask your friend to put a letter that you'll have to guess : m\n",
      "Gimme your letter : 2\n",
      "invalid\n"
     ]
    }
   ],
   "source": [
    "# [x] call check_guess with user input\n",
    "def check_guess(letter,guess):\n",
    "    if letter.isalpha() is False:\n",
    "        print(\"invalid\")\n",
    "    else:\n",
    "        if guess.isalpha() is False:\n",
    "            print(\"invalid\")\n",
    "        else:\n",
    "            if letter == guess:\n",
    "                print(\"correct\", letter == guess)\n",
    "            if letter != guess:\n",
    "                if guess < letter:\n",
    "                    print(\"low\")\n",
    "                else:\n",
    "                    print(\"high\")\n",
    "        \n",
    "letter = input(\"Ask your friend to put a letter that you'll have to guess : \")\n",
    "guess = input(\"Gimme your letter : \")\n",
    "check_guess(letter, guess)"
   ]
  },
  {
   "cell_type": "markdown",
   "metadata": {},
   "source": [
    "### Letter Guess\n",
    "**create letter_guess() function that gives user 3 guesses**\n",
    "- takes a letter character argument for the answer letter\n",
    "- gets user input for letter guess  \n",
    "- calls check_guess() with answer and guess\n",
    "- End letter_guess if \n",
    "    - check_guess() equals True, return True  \n",
    "    - or after 3 failed attempts, return False"
   ]
  },
  {
   "cell_type": "code",
   "execution_count": 4,
   "metadata": {},
   "outputs": [
    {
     "name": "stdout",
     "output_type": "stream",
     "text": [
      "Ask your friend to put a letter that you'll have to guess : m\n",
      "Gimme your letter : b\n",
      "low\n",
      "False\n",
      "Gimme your letter : w\n",
      "high\n",
      "False\n",
      "Gimme your letter : c\n",
      "low\n",
      "You lost the game :(\n"
     ]
    }
   ],
   "source": [
    "# [x] create letter_guess() function, call the function to test\n",
    "# would be easier with a loop\n",
    "# could be improved with a message when more than one character is entered \n",
    "def check_guess(letter,guess):\n",
    "    if letter.isalpha() is False:\n",
    "        print(\"invalid\")\n",
    "    else:\n",
    "        if guess.isalpha() is False:\n",
    "            print(\"invalid\")\n",
    "        else:\n",
    "            if letter == guess:\n",
    "                print(\"correct\")\n",
    "            if letter != guess:\n",
    "                if guess < letter:\n",
    "                    print(\"low\")\n",
    "                else:\n",
    "                    print(\"high\")\n",
    "\n",
    "def letter_guess():\n",
    "    letter = input(\"Ask your friend to put a letter that you'll have to guess : \")\n",
    "    guess = input(\"Gimme your letter : \")\n",
    "    check_guess(letter, guess)\n",
    "    if letter == guess:\n",
    "        print(letter == guess, \"Well done\")\n",
    "        pass\n",
    "    else:\n",
    "        print (letter == guess)\n",
    "        guess = input(\"Gimme your letter : \")\n",
    "        check_guess(letter, guess)\n",
    "        if letter == guess:\n",
    "            print(letter == guess, \"Well done\")\n",
    "            pass\n",
    "        else:\n",
    "            print (letter == guess)\n",
    "            guess = input(\"Gimme your letter : \")\n",
    "            check_guess(letter, guess)\n",
    "            if letter == guess:\n",
    "                print(letter == guess, \"Well done\")\n",
    "            else:\n",
    "                print(\"Sorry, you lost the game :(\")\n",
    "\n",
    "letter_guess()"
   ]
  },
  {
   "cell_type": "markdown",
   "metadata": {},
   "source": [
    "### Pet Conversation\n",
    "**ask the user for a sentence about a pet and then reply**  \n",
    "- get user input in variable: about_pet\n",
    "- using a series of **if** statements respond with appropriate conversation\n",
    "  - check if \"dog\" is in the string about_pet (sample reply \"Ah, a dog\")\n",
    "  - check if \"cat\" is in the string about_pet\n",
    "  - check if 1 or more animal is in string about_pet\n",
    "- no need for **else**'s\n",
    "- finish with thanking for the story"
   ]
  },
  {
   "cell_type": "code",
   "execution_count": 8,
   "metadata": {},
   "outputs": [
    {
     "name": "stdout",
     "output_type": "stream",
     "text": [
      "Say something about your favourite pet : get\n",
      "Well, thank you for your story\n"
     ]
    }
   ],
   "source": [
    "# [x] complete pet conversation\n",
    "about_pet = input(\"Say something about your favourite pet : \")\n",
    "if 'dog' in about_pet:\n",
    "    print(\"Ah, it's a story about a dog\")\n",
    "    pass\n",
    "if 'cat' in about_pet:\n",
    "    print(\"Ah, it's a story about a cat\")\n",
    "    pass\n",
    "if 'fish' in about_pet:\n",
    "    print(\"Ah, it's a story about a fish\")\n",
    "    pass\n",
    "print(\"Well, thank you for your story\")\n",
    "\n",
    "\n"
   ]
  },
  {
   "cell_type": "markdown",
   "metadata": {
    "collapsed": true
   },
   "source": [
    "[Terms of use](http://go.microsoft.com/fwlink/?LinkID=206977) &nbsp; [Privacy & cookies](https://go.microsoft.com/fwlink/?LinkId=521839) &nbsp; © 2017 Microsoft"
   ]
  }
 ],
 "metadata": {
  "anaconda-cloud": {},
  "kernelspec": {
   "display_name": "Python 3",
   "language": "python",
   "name": "python3"
  },
  "language_info": {
   "codemirror_mode": {
    "name": "ipython",
    "version": 3
   },
   "file_extension": ".py",
   "mimetype": "text/x-python",
   "name": "python",
   "nbconvert_exporter": "python",
   "pygments_lexer": "ipython3",
   "version": "3.7.0"
  }
 },
 "nbformat": 4,
 "nbformat_minor": 1
}
