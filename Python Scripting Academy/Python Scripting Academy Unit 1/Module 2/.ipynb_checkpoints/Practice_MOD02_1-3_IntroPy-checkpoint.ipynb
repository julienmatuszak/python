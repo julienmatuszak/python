{
 "cells": [
  {
   "cell_type": "markdown",
   "metadata": {},
   "source": [
    "# 1-3 Intro Python Practice\n",
    "## Functions Arguments & Parameters\n",
    "<font size=\"5\" color=\"#00A0B2\"  face=\"verdana\"> <B>Student will be able to</B></font>  \n",
    "- **create functions with a parameter**  \n",
    "- **create functions with a `return` value** \n",
    "- **create functions with multiple parameters**\n",
    "- **use knowledge of sequence in coding tasks**  \n",
    "- **use coding best practices** "
   ]
  },
  {
   "cell_type": "markdown",
   "metadata": {},
   "source": [
    "## &nbsp;\n",
    "<font size=\"6\" color=\"#B24C00\"  face=\"verdana\"> <B>Tasks</B></font>"
   ]
  },
  {
   "cell_type": "code",
   "execution_count": 4,
   "metadata": {},
   "outputs": [
    {
     "name": "stdout",
     "output_type": "stream",
     "text": [
      "Type in a simple word : night\n",
      "Type a second word that ends the same : blight\n",
      "I am a  night\n",
      "And you are a blight !\n"
     ]
    }
   ],
   "source": [
    "# [x] define and call a function short_rhyme() that prints a 2 line rhyme\n",
    "def short_rhyme(a,b):\n",
    "    print(\"I am a\",a)\n",
    "    print(\"And you are a\",b,\"!\")\n",
    "\n",
    "first_rhyme = input(\"Type in a simple word : \")\n",
    "second_rhyme = input(\"Type a second word that ends the same : \")\n",
    "short_rhyme(first_rhyme,second_rhyme)"
   ]
  },
  {
   "cell_type": "code",
   "execution_count": 5,
   "metadata": {},
   "outputs": [
    {
     "name": "stdout",
     "output_type": "stream",
     "text": [
      "What's your message ? lol\n",
      "Lol\n"
     ]
    }
   ],
   "source": [
    "# [x] define (def) a simple function: title_it() and call the function\n",
    "# - has a string parameter: msg\n",
    "# - prints msg in Title Case\n",
    "def title_it(msg):\n",
    "    print(msg.title())\n",
    "    \n",
    "message = input(\"What's your message ? \")\n",
    "title_it(message)"
   ]
  },
  {
   "cell_type": "code",
   "execution_count": 6,
   "metadata": {},
   "outputs": [
    {
     "name": "stdout",
     "output_type": "stream",
     "text": [
      "what is the title ? this\n",
      "This\n"
     ]
    }
   ],
   "source": [
    "# [x] get user input with prompt \"what is the title?\" \n",
    "# [x] call title_it() using input for the string argument\n",
    "message = input(\"what is the title ? \")\n",
    "title_it(message)"
   ]
  },
  {
   "cell_type": "code",
   "execution_count": 12,
   "metadata": {},
   "outputs": [
    {
     "name": "stdout",
     "output_type": "stream",
     "text": [
      "What is the title ? lord of the rings\n",
      "Lord Of The Rings\n"
     ]
    }
   ],
   "source": [
    "# [x] define title_it_rtn() which returns a titled string instead of printing\n",
    "# [x] call title_it_rtn() using input for the string argumetnt and print the result\n",
    "\n",
    "def title_it_rtn(msg):\n",
    "    return(msg.title())\n",
    "\n",
    "message = input(\"What is the title ? \")\n",
    "print(title_it_rtn(message))"
   ]
  },
  {
   "cell_type": "markdown",
   "metadata": {},
   "source": [
    "## Program: bookstore()\n",
    "create and test bookstore()\n",
    "- **bookstore() takes 2 string arguments: book & price**\n",
    "- **bookstore returns a string in sentence form** \n",
    "- **bookstore() should call title_it_rtn()** with book parameter  \n",
    "- **gather input for book_entry and price_entry to use in calling bookstore()**\n",
    "- **print the return value of bookstore()**\n",
    ">example of output: **`Title: The Adventures Of Sherlock Holmes, costs $12.99`**"
   ]
  },
  {
   "cell_type": "code",
   "execution_count": 23,
   "metadata": {},
   "outputs": [
    {
     "name": "stdout",
     "output_type": "stream",
     "text": [
      "What's the name of the book please ? the adventures of sherlock holmes\n",
      "How about the price ? $12.99\n",
      "Title: The Adventures Of Sherlock Holmes, costs $12.99\n"
     ]
    }
   ],
   "source": [
    "# [x] create, call and test bookstore() function\n",
    "def bookstore(book,price):\n",
    "    rtn = \"Title: \"+ title_it_rtn(book) + \", costs \" + price\n",
    "    return(rtn)\n",
    "\n",
    "b = input(\"What's the name of the book please ? \")\n",
    "p = input(\"How about the price ? \")\n",
    "print(bookstore(b,p))"
   ]
  },
  {
   "cell_type": "markdown",
   "metadata": {},
   "source": [
    "### Fix the error"
   ]
  },
  {
   "cell_type": "code",
   "execution_count": 27,
   "metadata": {},
   "outputs": [
    {
     "name": "stdout",
     "output_type": "stream",
     "text": [
      "enter a name: Julien\n",
      "enter a greeting: Hi\n",
      "Hi Julien!\n"
     ]
    }
   ],
   "source": [
    "def make_greeting(name, greeting):\n",
    "    return (greeting + \" \" + name + \"!\")\n",
    "\n",
    "def get_name():\n",
    "    name_entry = input(\"enter a name: \")\n",
    "    return name_entry\n",
    "\n",
    "def get_greeting():\n",
    "    greeting_entry = input(\"enter a greeting: \")\n",
    "    return greeting_entry\n",
    "\n",
    "# get name and greeting, send to make_greeting \n",
    "print(make_greeting(get_name(), get_greeting()))\n",
    "\n",
    "\n",
    "\n",
    "\n",
    "\n"
   ]
  },
  {
   "cell_type": "markdown",
   "metadata": {},
   "source": [
    "\n",
    "[Terms of use](http://go.microsoft.com/fwlink/?LinkID=206977) &nbsp; [Privacy & cookies](https://go.microsoft.com/fwlink/?LinkId=521839) &nbsp; © 2017 Microsoft"
   ]
  }
 ],
 "metadata": {
  "anaconda-cloud": {},
  "kernelspec": {
   "display_name": "Python 3",
   "language": "python",
   "name": "python3"
  },
  "language_info": {
   "codemirror_mode": {
    "name": "ipython",
    "version": 3
   },
   "file_extension": ".py",
   "mimetype": "text/x-python",
   "name": "python",
   "nbconvert_exporter": "python",
   "pygments_lexer": "ipython3",
   "version": "3.7.0"
  }
 },
 "nbformat": 4,
 "nbformat_minor": 1
}
