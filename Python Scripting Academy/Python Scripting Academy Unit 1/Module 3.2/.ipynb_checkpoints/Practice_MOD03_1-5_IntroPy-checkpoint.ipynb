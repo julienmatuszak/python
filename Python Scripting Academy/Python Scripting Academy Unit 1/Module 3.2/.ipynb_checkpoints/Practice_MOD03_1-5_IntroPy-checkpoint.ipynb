{
 "cells": [
  {
   "cell_type": "markdown",
   "metadata": {},
   "source": [
    "# 1-5 Intro Python Practice  \n",
    "## conditionals, type, and mathematics extended   \n",
    "&nbsp;\n",
    "<font size=\"5\" color=\"#00A0B2\"  face=\"verdana\"> <B>Student will be able to</B></font>  \n",
    "- code more than two choices using **`elif`** \n",
    "- gather numeric input using type casting  \n",
    "- perform subtraction, multiplication and division operations in code  &nbsp;  \n"
   ]
  },
  {
   "cell_type": "markdown",
   "metadata": {},
   "source": [
    "# &nbsp;  \n",
    "<font size=\"6\" color=\"#B24C00\"  face=\"verdana\"> <B>Tasks</B></font>"
   ]
  },
  {
   "cell_type": "markdown",
   "metadata": {},
   "source": [
    "### Rainbow colors\n",
    "ask for input of a favorite rainbow color first letter: ROYGBIV  \n",
    "\n",
    "Using `if`, `elif`, and `else`:  \n",
    "- print the color matching the letter  \n",
    "    - R = Red  \n",
    "    - O = Orange  \n",
    "    - Y = Yellow  \n",
    "    - G = Green\n",
    "    - B = Blue\n",
    "    - I = Indigo\n",
    "    - V = Violet\n",
    "    - else print \"no match\"\n"
   ]
  },
  {
   "cell_type": "code",
   "execution_count": 5,
   "metadata": {},
   "outputs": [
    {
     "name": "stdout",
     "output_type": "stream",
     "text": [
      "choose one of the colors of the rainbow (ROYGBIV) : g\n",
      "g = Green\n"
     ]
    }
   ],
   "source": [
    "# [x] complete rainbow colors\n",
    "color = input(\"choose one of the colors of the rainbow (ROYGBIV) : \")\n",
    "if color.upper() == \"R\":\n",
    "    print(color+\" = \"+\"Red\")\n",
    "elif color.upper() == \"O\":\n",
    "    print(color+\" = \"+\"Orange\")\n",
    "elif color.upper() == \"Y\":\n",
    "    print(color+\" = \"+\"Yellow\")\n",
    "elif color.upper() == \"G\":\n",
    "    print(color+\" = \"+\"Green\")\n",
    "elif color.upper() == \"B\":\n",
    "    print(color+\" = \"+\"Blue\")\n",
    "elif color.upper() == \"I\":\n",
    "    print(color+\" = \"+\"Indigo\")\n",
    "elif color.upper() == \"V\":\n",
    "    print(color+\" = \"+\"Violet\")\n",
    "else:\n",
    "    print(\"no match\")\n",
    "\n"
   ]
  },
  {
   "cell_type": "code",
   "execution_count": 10,
   "metadata": {},
   "outputs": [
    {
     "name": "stdout",
     "output_type": "stream",
     "text": [
      "choose one of the colors of the rainbow (ROYGBIV) : w\n",
      "no match\n"
     ]
    }
   ],
   "source": [
    "# [x] make the code above into a function rainbow_color() that has a string parameter, \n",
    "# get input and call the function and return the matching color as a string or \"no match\" message.\n",
    "# Call the function and print the return string.\n",
    "def rainbow_color(color):\n",
    "    if color.upper() == \"R\":\n",
    "        return(color+\" = \"+\"Red\")\n",
    "    elif color.upper() == \"O\":\n",
    "        return(color+\" = \"+\"Orange\")\n",
    "    elif color.upper() == \"Y\":\n",
    "        return(color+\" = \"+\"Yellow\")\n",
    "    elif color.upper() == \"G\":\n",
    "        return(color+\" = \"+\"Green\")\n",
    "    elif color.upper() == \"B\":\n",
    "        return(color+\" = \"+\"Blue\")\n",
    "    elif color.upper() == \"I\":\n",
    "        return(color+\" = \"+\"Indigo\")\n",
    "    elif color.upper() == \"V\":\n",
    "        return(color+\" = \"+\"Violet\")\n",
    "    else:\n",
    "        return(\"no match\")\n",
    "\n",
    "color = input(\"choose one of the colors of the rainbow (ROYGBIV) : \")\n",
    "print(rainbow_color(color))\n",
    "    \n",
    "\n",
    "\n"
   ]
  },
  {
   "cell_type": "markdown",
   "metadata": {},
   "source": [
    "# &nbsp;  \n",
    "**Create function age_20() that adds or subtracts 20 from your age for a return value based on current age** (use `if`) \n",
    "- call the funtion with user input and then use the return value in a sentence  \n",
    "example `age_20(25)` returns **5**: \n",
    "> \"5 years old, 20 years difference from now\""
   ]
  },
  {
   "cell_type": "code",
   "execution_count": 38,
   "metadata": {},
   "outputs": [
    {
     "name": "stdout",
     "output_type": "stream",
     "text": [
      "What is your real age ? : R\n",
      "You didn't put a digit!\n",
      "None\n"
     ]
    }
   ],
   "source": [
    "# [x] complete age_20()\n",
    "def age_20(real_age):\n",
    "    if str(real_age).isdigit() is False:\n",
    "        print(\"You didn't put a digit!\")\n",
    "    elif int(real_age)<20:\n",
    "        print(\"You are less than 20, I cannot tell you how old you were 20 years ago!\")\n",
    "    else:\n",
    "        return(str(int(real_age)-20)+\" years old, 20 years difference from now\")\n",
    "    \n",
    "real_age = input(\"What is your real age ? : \")\n",
    "print(age_20(real_age))\n"
   ]
  },
  {
   "cell_type": "markdown",
   "metadata": {},
   "source": [
    "**create a function rainbow_or_age that takes a string argument**\n",
    "- if argument is a digit return the value of calling age_20() with the str value cast as **`int`** \n",
    "- if argument is an alphabetical character return the value of calling rainbow_color() with the str\n",
    "- if neither return FALSE"
   ]
  },
  {
   "cell_type": "code",
   "execution_count": 49,
   "metadata": {},
   "outputs": [
    {
     "name": "stdout",
     "output_type": "stream",
     "text": [
      "Rainbow (ROYGBIV) or age ? : 4\n",
      "You are less than 20, I cannot tell you how old you were 20 years ago!\n",
      "None\n"
     ]
    }
   ],
   "source": [
    "# [x]  create rainbow_or_age()\n",
    "def rainbow_or_age(roa):\n",
    "    if roa.isalpha() is True:\n",
    "        if roa.upper() == \"R\":\n",
    "            return(roa+\" = \"+\"Red\")\n",
    "        elif roa.upper() == \"O\":\n",
    "            return(roa+\" = \"+\"Orange\")\n",
    "        elif roa.upper() == \"Y\":\n",
    "            return(roa+\" = \"+\"Yellow\")\n",
    "        elif roa.upper() == \"G\":\n",
    "            return(roa+\" = \"+\"Green\")\n",
    "        elif roa.upper() == \"B\":\n",
    "            return(roa+\" = \"+\"Blue\")\n",
    "        elif roa.upper() == \"I\":\n",
    "            return(roa+\" = \"+\"Indigo\")\n",
    "        elif roa.upper() == \"V\":\n",
    "            return(roa+\" = \"+\"Violet\")\n",
    "        else:\n",
    "            print(\"no match\")\n",
    "    elif roa.isdigit()is True:\n",
    "        if str(roa).isdigit() is False:\n",
    "            print(\"You didn't put a digit!\")\n",
    "        elif int(roa)<20:\n",
    "            print(\"You are less than 20, I cannot tell you how old you were 20 years ago!\")\n",
    "        else:\n",
    "            return(str(int(roa)-20)+\" years old, 20 years difference from now\")\n",
    "    else:\n",
    "        return(\"FALSE\")\n",
    "    \n",
    "roa = input(\"Rainbow (ROYGBIV) or age (integer) ? : \")\n",
    "print(rainbow_or_age(roa))\n",
    "\n"
   ]
  },
  {
   "cell_type": "code",
   "execution_count": 50,
   "metadata": {},
   "outputs": [
    {
     "name": "stdout",
     "output_type": "stream",
     "text": [
      "gimme a number : 1\n",
      "gimme another number : 2\n",
      "1 + 2 = 3\n"
     ]
    }
   ],
   "source": [
    "# [x]  add 2 numbers from input using a cast to integer and display the answer \n",
    "def add():\n",
    "    num1 = int(input(\"gimme a number : \"))\n",
    "    num2 = int(input(\"gimme another number : \"))\n",
    "    return str(num1)+\" + \"+str(num2)+\" = \"+str(num1+num2)\n",
    "\n",
    "print(add())\n"
   ]
  },
  {
   "cell_type": "code",
   "execution_count": 52,
   "metadata": {},
   "outputs": [
    {
     "name": "stdout",
     "output_type": "stream",
     "text": [
      "gimme a number : 1\n",
      "gimme another number : 3\n",
      "the answer is : 1 * 3 = 3\n"
     ]
    }
   ],
   "source": [
    "# [x] Multiply 2 numbers from input using cast and save the answer as part of a string \"the answer is...\"\n",
    "# display the string using print\n",
    "def multiply():\n",
    "    num1 = int(input(\"gimme a number : \"))\n",
    "    num2 = int(input(\"gimme another number : \"))\n",
    "    return \"the answer is : \"+str(num1)+\" * \"+str(num2)+\" = \"+str(num1*num2)\n",
    "\n",
    "print(multiply())\n",
    "\n"
   ]
  },
  {
   "cell_type": "code",
   "execution_count": 61,
   "metadata": {},
   "outputs": [
    {
     "name": "stdout",
     "output_type": "stream",
     "text": [
      "gimme a number : 1\n",
      "gimme another number : 4\n",
      "(1 + 4)/2 = 2.5\n"
     ]
    }
   ],
   "source": [
    "# [x] get input of 2 numbers and display the average: (num1 + num2) divided by 2\n",
    "def avg():\n",
    "    num1 = int(input(\"gimme a number : \"))\n",
    "    num2 = int(input(\"gimme another number : \"))\n",
    "    return \"(\"+str(num1)+\" + \"+str(num2)+\")/2 = \"+str(float((num1+num2)/2))\n",
    "\n",
    "print(avg())\n",
    "\n"
   ]
  },
  {
   "cell_type": "code",
   "execution_count": 67,
   "metadata": {},
   "outputs": [
    {
     "name": "stdout",
     "output_type": "stream",
     "text": [
      "gimme a number : 5\n",
      "gimme another number : 3\n",
      "5.0 - 3.0 = 2.0\n"
     ]
    }
   ],
   "source": [
    "# [x] get input of 2 numbers and subtract the largest from the smallest (use an if statement to see which is larger)\n",
    "# show the answer\n",
    "def substract_anything():\n",
    "    num1 = float(input(\"gimme a number : \"))\n",
    "    num2 = float(input(\"gimme another number : \"))\n",
    "    if num1>num2:\n",
    "        return str(num1)+\" - \"+str(num2)+\" = \"+str(num1-num2)\n",
    "    else:\n",
    "        return str(num2)+\" - \"+str(num1)+\" = \"+str(num2-num1)\n",
    "        \n",
    "print(substract_anything())\n"
   ]
  },
  {
   "cell_type": "code",
   "execution_count": 75,
   "metadata": {},
   "outputs": [
    {
     "name": "stdout",
     "output_type": "stream",
     "text": [
      "gimme a number : 4\n",
      "gimme another number : 2\n",
      "4.0 / 2.0 = 2\n"
     ]
    }
   ],
   "source": [
    "# [x] Divide a larger number by a smaller number and print the integer part of the result\n",
    "# don't divide by zero! if a zero is input make the result zero\n",
    "# [x] cast the answer to an integer to cut off the decimals and print the result\n",
    "def divide_anything():\n",
    "    num1 = float(input(\"gimme a number : \"))\n",
    "    num2 = float(input(\"gimme another number : \"))\n",
    "    if num1 == 0:\n",
    "        print(\"result is 0\")\n",
    "    elif num2 == 0:\n",
    "        print(\"result is 0\")\n",
    "    else:\n",
    "        if num1>num2:\n",
    "            return str(num1)+\" / \"+str(num2)+\" = \"+str(int(num1/num2))\n",
    "        else:\n",
    "            return str(num2)+\" / \"+str(num1)+\" = \"+str(int(num2/num1))\n",
    "        \n",
    "print(divide_anything())\n"
   ]
  },
  {
   "cell_type": "markdown",
   "metadata": {},
   "source": [
    "[Terms of use](http://go.microsoft.com/fwlink/?LinkID=206977) &nbsp; [Privacy & cookies](https://go.microsoft.com/fwlink/?LinkId=521839) &nbsp; © 2017 Microsoft"
   ]
  }
 ],
 "metadata": {
  "anaconda-cloud": {},
  "kernelspec": {
   "display_name": "Python 3",
   "language": "python",
   "name": "python3"
  },
  "language_info": {
   "codemirror_mode": {
    "name": "ipython",
    "version": 3
   },
   "file_extension": ".py",
   "mimetype": "text/x-python",
   "name": "python",
   "nbconvert_exporter": "python",
   "pygments_lexer": "ipython3",
   "version": "3.7.0"
  }
 },
 "nbformat": 4,
 "nbformat_minor": 1
}
