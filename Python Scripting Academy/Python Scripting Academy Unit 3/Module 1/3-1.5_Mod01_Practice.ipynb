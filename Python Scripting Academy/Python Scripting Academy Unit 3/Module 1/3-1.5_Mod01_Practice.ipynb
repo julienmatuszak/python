{
 "cells": [
  {
   "cell_type": "markdown",
   "metadata": {},
   "source": [
    "# Module 1 Practice\n",
    "\n",
    "### Students will be able to:\n",
    "\n",
    "## 3-1.1 Using Python Modules\n",
    "* Import different Python modules\n",
    "* Compute mathematical expressions using functions from the math module\n",
    "* Recognize the effect of operator precedence\n",
    "* Round real numbers into the nearest integer\n",
    "* Generate (pseudo-)random integers\n",
    "* Select a random element from a list\n",
    "* Shuffle the elements of a list\n",
    "\n",
    "##  3-1.2 Working with Date and Time\n",
    "* Assign and modify a time object (variable)\n",
    "* Assign and modify a date object (variable)\n",
    "* Get the current local date\n",
    "* Assign and modify a datetime object (variable)\n",
    "* Split a datetime object into separate time and date objects\n",
    "* Combine time and date objects into datetime objects\n",
    "* Display a datetime object as a formatted string\n",
    "\n",
    "## 3-1.3 Date and Time Arithmetic\n",
    "\n",
    "* Create timedelta objects\n",
    "* Use timedelta objects to perform date arithmetic\n",
    "* Compare two datetime objects\n",
    "* Build a useful application using timedelta arithmetic\n",
    "\n",
    "## 3-1.4 File System\n",
    "\n",
    "* Identify the platform running a Python script ('Linux', 'win32', 'Darwin')\n",
    "* Get the current working directory\n",
    "* Change the current working directory\n",
    "* List the content of the current working directory\n",
    "* Create a new directory\n",
    "* Remove a directory\n",
    "* Rename files and/or directories\n",
    "* Recognize the difference between a relative path and an absolute path\n",
    "* Test if a path exists\n",
    "* Test if a specific file or directory exists"
   ]
  },
  {
   "cell_type": "markdown",
   "metadata": {},
   "source": [
    "---\n",
    "<font size=\"6\" color=\"#B24C00\"  face=\"verdana\"> <B>Task 1</B></font>\n",
    "\n",
    "## `math` module\n"
   ]
  },
  {
   "cell_type": "code",
   "execution_count": 2,
   "metadata": {},
   "outputs": [
    {
     "name": "stdout",
     "output_type": "stream",
     "text": [
      "3.141592653589793\n"
     ]
    }
   ],
   "source": [
    "# [x] Use the math module to display an accurate value for pi\n",
    "import math\n",
    "print(math.pi)\n"
   ]
  },
  {
   "cell_type": "code",
   "execution_count": 14,
   "metadata": {},
   "outputs": [
    {
     "name": "stdout",
     "output_type": "stream",
     "text": [
      "The list of numbers divisible by 3 is : [45, 42, 87, 39, 18]\n",
      "The list of square roots of these numbers (in the same order) is: [4.795831523312719, 6.708203932499369, 8.06225774829855, 48.425200051213004, 6.48074069840786, 8.717797887081348, 6.082762530298219, 9.327379053088816, 25.436194683953808, 5.916079783099616, 6.082762530298219, 6.244997998398398, 29.966648127543394, 9.591663046625438, 4.242640687119285]\n",
      "A more brushed-up list of these square roots [5.0, 7.0, 8.0, 48.0, 6.0, 9.0, 6.0, 9.0, 25.0, 6.0, 6.0, 6.0, 30.0, 10.0, 4.0]\n"
     ]
    }
   ],
   "source": [
    "# [x] Write a program to:\n",
    "# 1) find all the numbers in a list that are divisible by 3\n",
    "# 2) display the square root of these numbers\n",
    "# 3) use a rounding function to display the square roots while ignoring the decimal fraction\n",
    "import math\n",
    "lst = [23, 45, 65, 2345, 42, 76, 37, 87, 647, 35, 37 ,39, 898, 92, 18]\n",
    "divisible_by_3 = []\n",
    "sqr_list = []\n",
    "neat_sqr_list = []\n",
    "for a in lst:\n",
    "    if a%3 == 0:\n",
    "        divisible_by_3.append(a)\n",
    "    sqr_list.append(math.sqrt(a))\n",
    "    neat_sqr_list.append(round(math.sqrt(a),0))\n",
    "print(\"The list of numbers divisible by 3 is :\",divisible_by_3)\n",
    "print(\"The list of square roots of these numbers (in the same order) is:\",sqr_list)\n",
    "print(\"A more brushed-up list of these square roots\",neat_sqr_list)"
   ]
  },
  {
   "cell_type": "markdown",
   "metadata": {},
   "source": [
    "---\n",
    "<font size=\"6\" color=\"#B24C00\"  face=\"verdana\"> <B>Task 2</B></font>\n",
    "\n",
    "## Mathematical operators\n"
   ]
  },
  {
   "cell_type": "markdown",
   "metadata": {},
   "source": [
    "### Coin calculators\n",
    "\n",
    "In the following exercises, you will develop functions to count the number of coins in a certain dollar amount. You will then use these functions to write a program that can calculate the change due to a customer in coins."
   ]
  },
  {
   "cell_type": "markdown",
   "metadata": {},
   "source": [
    "#### Quarters"
   ]
  },
  {
   "cell_type": "code",
   "execution_count": 62,
   "metadata": {},
   "outputs": [
    {
     "name": "stdout",
     "output_type": "stream",
     "text": [
      "There are 8 quarters in total and there is 0 remaining cents.\n",
      "There are 21 quarters in total and there is 5 remaining cents.\n",
      "There are 37 quarters in total and there is 24 remaining cents.\n"
     ]
    }
   ],
   "source": [
    "# [x] Complete the function `quarters_count` so it calculates and prints the number of quarters in `input_cents`\n",
    "# The function input `input_cents` should be in cents \n",
    "# The function should print the number of calculated quarters in `input_cents`\n",
    "# The function should return the number of remaining cents `remaining_cents` (which is less than 25, why?) -> because if it's more, we can divide by a divisor with one more increment\n",
    "# HINT: You might want to use % and // operators\n",
    "import math\n",
    "def quarters_count(input_cents):\n",
    "    print(\"There are\",str(int(math.floor(input_cents/25))),\"quarters in total\", end = \" \")\n",
    "    return \"and there are \"+str(int(input_cents%25))+\" remaining cents.\"\n",
    "              \n",
    "# test with $2\n",
    "# Output should be: 8 quarter\\s\n",
    "dollars = 2\n",
    "total_cents = dollars * 100\n",
    "remaining_cents = quarters_count(total_cents)\n",
    "print(remaining_cents)\n",
    "\n",
    "# test with $5.30\n",
    "# Output should be: 21.0 quarter\\s\n",
    "dollars = 5.30\n",
    "total_cents = dollars * 100\n",
    "remaining_cents = quarters_count(total_cents)\n",
    "print(remaining_cents)\n",
    "\n",
    "# test with $9.49\n",
    "# Output should be: 37.0 quarter\\s\n",
    "dollars = 9.49\n",
    "total_cents = dollars * 100\n",
    "remaining_cents = quarters_count(total_cents)\n",
    "print(remaining_cents)\n",
    "\n"
   ]
  },
  {
   "cell_type": "markdown",
   "metadata": {},
   "source": [
    "#### Dimes"
   ]
  },
  {
   "cell_type": "code",
   "execution_count": 67,
   "metadata": {},
   "outputs": [
    {
     "name": "stdout",
     "output_type": "stream",
     "text": [
      "There are 20 dimes in total and there is 0 remaining dimes.\n",
      "There are 53 dimes in total and there is 0 remaining dimes.\n",
      "There are 94 dimes in total and there is 9 remaining dimes.\n"
     ]
    }
   ],
   "source": [
    "# [x] Complete the function `dimes_count` so it calculates and prints the number of dimes in `input_cents`\n",
    "# The function input `input_cents` should be in cents \n",
    "# The function should print the number of calculated dimes in `input_cents`\n",
    "# The function should return the number of remaining cents `remaining_cents` (which is less than 10, why?)\n",
    "# HINT: You might want to use % and // operators\n",
    "\n",
    "def dimes_count(input_cents):\n",
    "    print(\"There are\",str(int(math.floor(input_cents/10))),\"dimes in total\", end = \" \")\n",
    "    return \"and there are \"+str(int(input_cents%10))+\" remaining cents.\"\n",
    "          \n",
    "# test with $2\n",
    "# Output should be: 20 dime\\s\n",
    "dollars = 2\n",
    "total_cents = dollars * 100\n",
    "remaining_cents = dimes_count(total_cents)\n",
    "print(remaining_cents)\n",
    "\n",
    "# test with $5.30\n",
    "# Output should be: 53.0 dime\\s\n",
    "dollars = 5.30\n",
    "total_cents = dollars * 100\n",
    "remaining_cents = dimes_count(total_cents)\n",
    "print(remaining_cents)\n",
    "\n",
    "# test with $9.49\n",
    "# Output should be: 94.0 dime\\s\n",
    "dollars = 9.49\n",
    "total_cents = dollars * 100\n",
    "remaining_cents = dimes_count(total_cents)\n",
    "print(remaining_cents)"
   ]
  },
  {
   "cell_type": "markdown",
   "metadata": {},
   "source": [
    "#### Nickels"
   ]
  },
  {
   "cell_type": "code",
   "execution_count": 72,
   "metadata": {},
   "outputs": [
    {
     "name": "stdout",
     "output_type": "stream",
     "text": [
      "There are 40 nickels in total and there is 0 remaining cents.\n",
      "There are 106 nickels in total and there is 0 remaining cents.\n",
      "There are 189 nickels in total and there is 4 remaining cents.\n"
     ]
    }
   ],
   "source": [
    "# [x] Complete the function `nickels_count` so it calculates and prints the number of nickels in `input_cents`\n",
    "# The function input `input_cents` should be in cents \n",
    "# The function should print the number of calculated nickels in `input_cents`\n",
    "# The function should return the number of remaining cents `remaining_cents` (which is less than 5, why?)\n",
    "# HINT: You might want to use % and // operators\n",
    "\n",
    "def nickels_count(input_cents):\n",
    "    print(\"There are\",str(int(math.floor(input_cents/5))),\"nickels in total\", end = \" \")\n",
    "    return \"and there are \"+str(int(input_cents%5))+\" remaining cents.\"\n",
    "          \n",
    "# test with $2\n",
    "# Output should be: 40 nickel\\s\n",
    "dollars = 2\n",
    "total_cents = dollars * 100\n",
    "remaining_cents = nickels_count(total_cents)\n",
    "print(remaining_cents)\n",
    "\n",
    "# test with $5.30\n",
    "# Output should be: 106.0 nickel\\s\n",
    "dollars = 5.30\n",
    "total_cents = dollars * 100\n",
    "remaining_cents = nickels_count(total_cents)\n",
    "print(remaining_cents)\n",
    "\n",
    "# test with $9.49\n",
    "# Output should be: 189.0 nickel\\s\n",
    "dollars = 9.49\n",
    "total_cents = dollars * 100\n",
    "remaining_cents = nickels_count(total_cents)\n",
    "print(remaining_cents)\n"
   ]
  },
  {
   "cell_type": "markdown",
   "metadata": {},
   "source": [
    "#### Change calculator"
   ]
  },
  {
   "cell_type": "code",
   "execution_count": 114,
   "metadata": {},
   "outputs": [
    {
     "name": "stdout",
     "output_type": "stream",
     "text": [
      "Change due:\n",
      "18.0 quarter\\s\n",
      "1.0 dime\\s\n",
      "0.0 nickel\\s\n",
      "3.0 cent\\s\n"
     ]
    }
   ],
   "source": [
    "# [x] Complete the function `coins_due` to calculate and print the change due to a customer in coins\n",
    "#\n",
    "# The function `coins_due` has 2 inputs:\n",
    "#      - `amount_paid`: Amount paid by a customer (in cents)\n",
    "#      - `item_price`: Purchase price of an item\n",
    "#\n",
    "# The function should print:\n",
    "#      - The number of quarters due\n",
    "#      - The number of dimes due\n",
    "#      - The number of nickels due\n",
    "#      - The number of cents due\n",
    "#      \n",
    "# The function does not need to return anything\n",
    "#\n",
    "# HINT: Use the functions you developed before `quarters_count`, `dimes_count`, `nickels_count`\n",
    "import math\n",
    "\n",
    "def quarters_count(input_cents):\n",
    "    return(float(math.floor((input_cents)/25)))\n",
    "\n",
    "def dimes_count(input_cents):\n",
    "    return(float(math.floor((input_cents)/10)))\n",
    "\n",
    "def nickels_count(input_cents):\n",
    "    return(float(math.floor((input_cents)/5))) \n",
    "\n",
    "def coins_due(amount_paid, item_price):\n",
    "    q = quarters_count(amount_paid - item_price)\n",
    "    d = dimes_count(q%25)\n",
    "    n = nickels_count(d%10)\n",
    "    c = amount_paid - item_price - 25*q - 10*d - 5*n\n",
    "    print(\"Change due:\\n\"+str(q)+\" quarter\\s\\n\"+str(d)+\" dime\\s\\n\"+str(n)+\" nickel\\s\\n\"+str(c)+\" cent\\s\")\n",
    "    \n",
    "\n",
    "# Test case:\n",
    "# amount paid = $10, item price = $5.37\n",
    "# Output should be: \n",
    "#    Change due:\n",
    "#    18.0 quarter\\s\n",
    "#    1.0 dime\\s\n",
    "#    0.0 nickel\\s\n",
    "#    3.0 cent\\s\n",
    "\n",
    "amount_paid = 10 * 100 # in cents\n",
    "item_price = 5.37 * 100 # in cents\n",
    "coins_due(amount_paid, item_price)"
   ]
  },
  {
   "cell_type": "markdown",
   "metadata": {},
   "source": [
    "---\n",
    "<font size=\"6\" color=\"#B24C00\"  face=\"verdana\"> <B>Task 3</B></font>\n",
    "\n",
    "## Random numbers\n"
   ]
  },
  {
   "cell_type": "markdown",
   "metadata": {},
   "source": [
    "### Probability of a die roll\n",
    "\n",
    "It is possible to mathematically predict the probability (or chance) of getting a certain die roll; however, in this exercise you will use Python to do it without math. The trick is to roll a die a large number of times and count how many times we get a certain roll. You can, then, divide the count by the large number to get the probability. For a fair 6-sided die, the chance of getting any of its faces is about 16.6%"
   ]
  },
  {
   "cell_type": "code",
   "execution_count": 220,
   "metadata": {},
   "outputs": [
    {
     "name": "stdout",
     "output_type": "stream",
     "text": [
      "We are doing 13406 throws\n",
      "Probability to obtain 1 : 16.7%\n",
      "Probability to obtain 2 : 16.8%\n",
      "Probability to obtain 3 : 16.7%\n",
      "Probability to obtain 4 : 16.5%\n",
      "Probability to obtain 5 : 16.6%\n",
      "Probability to obtain 6 : 16.7%\n"
     ]
    }
   ],
   "source": [
    "# [x] Complete the following program to display the probability of a certain die roll\n",
    "\n",
    "from random import randint\n",
    "\n",
    "def die_roller ():\n",
    "    return(randint(1, 6))\n",
    "\n",
    "p1 = 0\n",
    "p2 = 0\n",
    "p3 = 0\n",
    "p4 = 0\n",
    "p5 = 0\n",
    "p6 = 0\n",
    "x = randint(10000,20000)\n",
    "print(\"We are doing\",x,\"throws\")\n",
    "for a in range(0,x):\n",
    "    a = die_roller()\n",
    "    if a == 1:\n",
    "        p1 +=1/x\n",
    "    elif a == 2:\n",
    "        p2 +=1/x\n",
    "    elif a == 3:\n",
    "        p3 +=1/x\n",
    "    elif a == 4:\n",
    "        p4 +=1/x\n",
    "    elif a == 5:\n",
    "        p5 +=1/x\n",
    "    else:\n",
    "        p6 +=1/x\n",
    "print(\"Probability to obtain 1 :\",str(round(float(p1),3)*100)+\"%\")\n",
    "print(\"Probability to obtain 2 :\",str(round(float(p2),3)*100)+\"%\")\n",
    "print(\"Probability to obtain 3 :\",str(round(float(p3),3)*100)+\"%\")\n",
    "print(\"Probability to obtain 4 :\",str(round(float(p4),3)*100)+\"%\")\n",
    "print(\"Probability to obtain 5 :\",str(round(float(p5),3)*100)+\"%\")\n",
    "print(\"Probability to obtain 6 :\",str(round(float(p6),3)*100)+\"%\")"
   ]
  },
  {
   "cell_type": "markdown",
   "metadata": {},
   "source": [
    "### Roll till you get 11\n",
    "\n",
    "In this exercise, you will count the number of times you need to roll a set of 2 dice till you get a roll sum of 11."
   ]
  },
  {
   "cell_type": "code",
   "execution_count": 277,
   "metadata": {},
   "outputs": [
    {
     "name": "stdout",
     "output_type": "stream",
     "text": [
      "The number of times needed to get a roll sum of 11 for this game is 1\n"
     ]
    }
   ],
   "source": [
    "# [x] Complete the following program so you can count the number of times needed to get a roll sum of 11\n",
    "\n",
    "from random import randint\n",
    "\n",
    "def die_roller():\n",
    "    return(randint(1, 6))\n",
    "\n",
    "def roll_sum():\n",
    "    return die_roller() + die_roller()\n",
    "\n",
    "count = 0\n",
    "while roll_sum() != 11:\n",
    "    count+=1\n",
    "    roll_sum()\n",
    "print(\"The number of times needed to get a roll sum of 11 for this game is \"+str(count))\n"
   ]
  },
  {
   "cell_type": "markdown",
   "metadata": {},
   "source": [
    "### Pick a candy\n",
    "\n",
    "In this exercise, you will write a program to randomly select a candy from a box."
   ]
  },
  {
   "cell_type": "code",
   "execution_count": 289,
   "metadata": {},
   "outputs": [
    {
     "name": "stdout",
     "output_type": "stream",
     "text": [
      "Chocolate\n"
     ]
    }
   ],
   "source": [
    "# [x] Complete the function `pick_candy` so it returns a candy from box at random\n",
    "from random import choice\n",
    "def pick_candy():\n",
    "    box = [\"Taffy\", \"Brownie\", \"Cookie\", \"Candy bar\", \"Chocolate\", \"Lollipop\", \"Gingerbread\", \"Marshmallow\"]\n",
    "    return(choice(box))\n",
    "\n",
    "print(pick_candy())\n"
   ]
  },
  {
   "cell_type": "markdown",
   "metadata": {},
   "source": [
    "### Shuffle a sorted list"
   ]
  },
  {
   "cell_type": "code",
   "execution_count": 280,
   "metadata": {},
   "outputs": [
    {
     "name": "stdout",
     "output_type": "stream",
     "text": [
      "[9, 1993, 69, 594, 62, 5, 394, 59, 3, 35, 102, 29]\n"
     ]
    }
   ],
   "source": [
    "# [x] Write a program to shuffle the following sorted list\n",
    "from random import shuffle\n",
    "lst = [3, 5, 9, 29, 35, 59, 62, 69, 102, 394, 594, 1993]\n",
    "\n",
    "shuffle(lst)\n",
    "\n",
    "print(lst)\n",
    "\n"
   ]
  },
  {
   "cell_type": "markdown",
   "metadata": {},
   "source": [
    "---\n",
    "<font size=\"6\" color=\"#B24C00\"  face=\"verdana\"> <B>Task 4</B></font>\n",
    "\n",
    "## Working with date and time\n"
   ]
  },
  {
   "cell_type": "markdown",
   "metadata": {},
   "source": [
    "### Current date and time"
   ]
  },
  {
   "cell_type": "code",
   "execution_count": 21,
   "metadata": {},
   "outputs": [
    {
     "name": "stdout",
     "output_type": "stream",
     "text": [
      "02:12 PM\n"
     ]
    }
   ],
   "source": [
    "# [x] Write a program that displays the current time as (HH:MM AM/PM) (example 02:28 PM)\n",
    "from datetime import time\n",
    "def show_time():\n",
    "    return(datetime.today().strftime(\"%I:%M %p\"))\n",
    "print(show_time())\n"
   ]
  },
  {
   "cell_type": "code",
   "execution_count": 23,
   "metadata": {},
   "outputs": [
    {
     "name": "stdout",
     "output_type": "stream",
     "text": [
      "14:12:58\n"
     ]
    }
   ],
   "source": [
    "# [x] Write a program that displays the current time as (HH:MM:SS) (example 14:28:10)\n",
    "from datetime import time\n",
    "def show_time():\n",
    "    return(datetime.today().strftime(\"%H:%M:%S\"))\n",
    "print(show_time())\n"
   ]
  },
  {
   "cell_type": "code",
   "execution_count": null,
   "metadata": {
    "collapsed": true
   },
   "outputs": [],
   "source": [
    "# [x] Write a program that displays the current date as (Friday, December 15, 2017)\n",
    "from datetime import date\n",
    "def show_time():\n",
    "    return(datetime.today().strftime(\"%H:%M:%S\"))\n",
    "print(show_time())"
   ]
  },
  {
   "cell_type": "markdown",
   "metadata": {},
   "source": [
    "### American VS European date format\n",
    "\n",
    "In the United States, the date is formatted as Month/Day/Year; whereas, in Europe the date is formatted as Day/Month/Year. In this exercise, you will write two functions that will display a `datetime` object in the American or European format."
   ]
  },
  {
   "cell_type": "code",
   "execution_count": 24,
   "metadata": {},
   "outputs": [
    {
     "name": "stdout",
     "output_type": "stream",
     "text": [
      "American format: 02/13/12\n",
      "European format: 13/02/12\n"
     ]
    }
   ],
   "source": [
    "# [x] Complete the functions `american_format(d)` and `european_format(d)` to display the datetime object d in the proper format\n",
    "\n",
    "from datetime import datetime\n",
    "\n",
    "def american_format(d):\n",
    "    return d.strftime(\"%m/%d/%y\")\n",
    "\n",
    "def european_format(d):\n",
    "    return d.strftime(\"%d/%m/%y\")\n",
    "    \n",
    "# test\n",
    "d = datetime(month = 2, year = 2012, day = 13)\n",
    "\n",
    "print(\"American format:\", american_format(d))\n",
    "print(\"European format:\", european_format(d))\n",
    "\n",
    "\n"
   ]
  },
  {
   "cell_type": "markdown",
   "metadata": {},
   "source": [
    "### Birthday days"
   ]
  },
  {
   "cell_type": "code",
   "execution_count": 9,
   "metadata": {},
   "outputs": [
    {
     "name": "stdout",
     "output_type": "stream",
     "text": [
      "Your birthday on 1979 was a Tuesday\n",
      "Your birthday on 1980 was a Thursday\n",
      "Your birthday on 1981 was a Friday\n",
      "Your birthday on 1982 was a Saturday\n",
      "Your birthday on 1983 was a Sunday\n",
      "Your birthday on 1984 was a Tuesday\n",
      "Your birthday on 1985 was a Wednesday\n",
      "Your birthday on 1986 was a Thursday\n",
      "Your birthday on 1987 was a Friday\n",
      "Your birthday on 1988 was a Sunday\n",
      "Your birthday on 1989 was a Monday\n",
      "Your birthday on 1990 was a Tuesday\n",
      "Your birthday on 1991 was a Wednesday\n",
      "Your birthday on 1992 was a Friday\n",
      "Your birthday on 1993 was a Saturday\n",
      "Your birthday on 1994 was a Sunday\n",
      "Your birthday on 1995 was a Monday\n",
      "Your birthday on 1996 was a Wednesday\n",
      "Your birthday on 1997 was a Thursday\n",
      "Your birthday on 1998 was a Friday\n",
      "Your birthday on 1999 was a Saturday\n",
      "Your birthday on 2000 was a Monday\n",
      "Your birthday on 2001 was a Tuesday\n",
      "Your birthday on 2002 was a Wednesday\n",
      "Your birthday on 2003 was a Thursday\n",
      "Your birthday on 2004 was a Saturday\n",
      "Your birthday on 2005 was a Sunday\n",
      "Your birthday on 2006 was a Monday\n",
      "Your birthday on 2007 was a Tuesday\n",
      "Your birthday on 2008 was a Thursday\n",
      "Your birthday on 2009 was a Friday\n",
      "Your birthday on 2010 was a Saturday\n",
      "Your birthday on 2011 was a Sunday\n",
      "Your birthday on 2012 was a Tuesday\n",
      "Your birthday on 2013 was a Wednesday\n",
      "Your birthday on 2014 was a Thursday\n",
      "Your birthday on 2015 was a Friday\n",
      "Your birthday on 2016 was a Sunday\n",
      "Your birthday on 2017 was a Monday\n",
      "Your birthday on 2018 is a Tuesday\n",
      "Your birthday on 2019 will be a Wednesday\n",
      "Your birthday on 2020 will be a Friday\n",
      "Your birthday on 2021 will be a Saturday\n",
      "Your birthday on 2022 will be a Sunday\n",
      "Your birthday on 2023 will be a Monday\n",
      "Your birthday on 2024 will be a Wednesday\n",
      "Your birthday on 2025 will be a Thursday\n"
     ]
    }
   ],
   "source": [
    "# [x] Write a program to display a list of all your birthdays from the day you were born till 2025.\n",
    "# You should also show the weekdays so you can see which of them was (or will be) on a weekend\n",
    "from datetime import datetime\n",
    "t = datetime(year=1979,month=5,day=15)\n",
    "for a in range(1979,2026):\n",
    "    if a < datetime.today().year:\n",
    "        print(\"Your birthday on\",str(a),\"was a\",datetime(year=a,month=5,day=15).strftime(\"%A\"))\n",
    "    elif a > datetime.today().year:\n",
    "        print(\"Your birthday on\",str(a),\"will be a\",datetime(year=a,month=5,day=15).strftime(\"%A\"))     \n",
    "    else:\n",
    "        print(\"Your birthday on\",str(a),\"is a\",datetime(year=a,month=5,day=15).strftime(\"%A\"))             "
   ]
  },
  {
   "cell_type": "markdown",
   "metadata": {},
   "source": [
    "---\n",
    "<font size=\"6\" color=\"#B24C00\"  face=\"verdana\"> <B>Task 5</B></font>\n",
    "\n",
    "## Date and Time Arithmetic\n"
   ]
  },
  {
   "cell_type": "markdown",
   "metadata": {},
   "source": [
    "### `timedelta`"
   ]
  },
  {
   "cell_type": "code",
   "execution_count": 17,
   "metadata": {},
   "outputs": [
    {
     "name": "stdout",
     "output_type": "stream",
     "text": [
      "28 days, 0:00:00\n",
      "2419200\n"
     ]
    }
   ],
   "source": [
    "# Write a program to find out how many minutes are in a 4-week period\n",
    "# Hint: Use a timedelta object and the total_seconds() method\n",
    "from datetime import timedelta\n",
    "t = timedelta(weeks=4)\n",
    "print(t)\n",
    "print(int(t.total_seconds()))"
   ]
  },
  {
   "cell_type": "markdown",
   "metadata": {},
   "source": [
    "### Date arithmetic"
   ]
  },
  {
   "cell_type": "code",
   "execution_count": 37,
   "metadata": {},
   "outputs": [
    {
     "name": "stdout",
     "output_type": "stream",
     "text": [
      "There is 64 days left until the end of the year!\n"
     ]
    }
   ],
   "source": [
    "# [x] Write a program to compute the number of days remaining in the current year\n",
    "from datetime import timedelta\n",
    "t=datetime(year=2018,month=12,day=31)\n",
    "print(\"There is\",str((t-datetime.today()).days),\"days left until the end of the year!\")"
   ]
  },
  {
   "cell_type": "markdown",
   "metadata": {},
   "source": [
    "### Comparing `datetime` objects"
   ]
  },
  {
   "cell_type": "code",
   "execution_count": 3,
   "metadata": {},
   "outputs": [
    {
     "name": "stdout",
     "output_type": "stream",
     "text": [
      "July 4th is not within 10 days of today's date.\n"
     ]
    }
   ],
   "source": [
    "# [x] Complete the program below to find out if July 4th is within 10 days of today's date,\n",
    "# if it is, find out if has passed or not\n",
    "\n",
    "from datetime import datetime\n",
    "import math\n",
    "\n",
    "# get today's date\n",
    "todays_date = datetime.today()\n",
    "\n",
    "# 4th of July of current year\n",
    "july_4th = datetime(month = 7, day = 4, year = todays_date.year)\n",
    "\n",
    "days_difference = todays_date - july_4th\n",
    "\n",
    "if abs(days_difference.days) > 10:\n",
    "    print(\"July 4th is not within 10 days of today's date.\")\n",
    "else:\n",
    "    if days_difference.days < 0:\n",
    "        print(\"July the 4th is gone, don't worry, there will be one more next year!\")\n",
    "    elif days_difference.days > 0:\n",
    "        print(\"July the 4th is within 10 days, get ready!\")\n",
    "    else:\n",
    "        print(\"July the 4th is today, rejoice!\")\n",
    "    "
   ]
  },
  {
   "cell_type": "markdown",
   "metadata": {},
   "source": [
    "---\n",
    "<font size=\"6\" color=\"#B24C00\"  face=\"verdana\"> <B>Task 6</B></font>\n",
    "\n",
    "## File System\n"
   ]
  },
  {
   "cell_type": "markdown",
   "metadata": {},
   "source": [
    "### Directory operations"
   ]
  },
  {
   "cell_type": "code",
   "execution_count": 8,
   "metadata": {},
   "outputs": [
    {
     "name": "stdout",
     "output_type": "stream",
     "text": [
      "['practice_2']\n",
      "['sub_practice_2']\n",
      "['3-1.2_intro_Python.ipynb', '3_1_4.py', '.DS_Store', '3_1_5.py', '3_1_1.py', '3-1.1_intro_Python.ipynb', 'Required_Code_Mod01.ipynb', '3-1.4_intro_Python.ipynb', '.ipynb_checkpoints', '3-1.5_Mod01_Practice.ipynb', '3_1_2.py', '3_1_Required.py', '3-1.3_intro_Python.ipynb', '3_1_3.py']\n"
     ]
    }
   ],
   "source": [
    "# [x ] Complete the following program to:\n",
    "# 1) navigate to `parent_dir` directory (if not already in it)\n",
    "# 2) create a new directory called `practice_1`\n",
    "# 3) change the working directory to `practice_1`\n",
    "# 4) display the current working directory to verify you are in the correct location\n",
    "# 5) create a new directory called `practice_2`\n",
    "# 6) verify that `practice_2` was created by listing the content of the current directory\n",
    "# 7) rename `practice_2` as `sub_practice_2`\n",
    "# 8) verify the name was successful changed by listing the content of the current directory\n",
    "# 9) remove `sub_practice_2`\n",
    "# 10) change working directory to the parent directory using `..`\n",
    "# 11) remove `practice_1`\n",
    "# 12) verify your current working directory and display its content\n",
    "\n",
    "import os, os.path\n",
    "\n",
    "# 1) navigate to `parent_dir` directory (if not already in it)\n",
    "if('/Users/julien.matuszak/Repos/python/Python Scripting Academy/Python Scripting Academy Unit 3/Module 1' not in os.getcwd()):\n",
    "    # Changing the current working directory to parent dir\n",
    "    print(\"Changing working dir to parent_dir\")\n",
    "    os.chdir('/Users/julien.matuszak/Repos/python/Python Scripting Academy/Python Scripting Academy Unit 3/Module 1')\n",
    "    print(\"Current working directory:\", os.getcwd())\n",
    "# 2) create a new directory called `practice_1`\n",
    "os.mkdir(\"practice_1\")\n",
    "# 3) change the working directory to `practice_1`\n",
    "os.chdir(\"practice_1\")\n",
    "# 4) display the current working directory to verify you are in the correct location\n",
    "os.getcwd()\n",
    "# 5) create a new directory called `practice_2`\n",
    "os.mkdir(\"practice_2\")\n",
    "# 6) verify that `practice_2` was created by listing the content of the current directory\n",
    "print(os.listdir())\n",
    "# 7) rename `practice_2` as `sub_practice_2`\n",
    "os.rename(\"practice_2\",\"sub_practice_2\")\n",
    "# 8) verify the name was successful changed by listing the content of the current directory\n",
    "print(os.listdir())\n",
    "# 9) remove `sub_practice_2`\n",
    "os.rmdir(\"sub_practice_2\")\n",
    "# 10) change working directory to the parent directory using `..`\n",
    "os.chdir(\"..\")\n",
    "# 11) remove `practice_1`\n",
    "os.rmdir(\"practice_1\")\n",
    "# 12) verify your current working directory and display its content\n",
    "print(os.listdir())"
   ]
  },
  {
   "cell_type": "markdown",
   "metadata": {},
   "source": [
    "### Path operations"
   ]
  },
  {
   "cell_type": "code",
   "execution_count": 11,
   "metadata": {},
   "outputs": [
    {
     "name": "stdout",
     "output_type": "stream",
     "text": [
      "/Users/julien.matuszak/Repos/python/Python Scripting Academy/Python Scripting Academy Unit 3/Module 1\n",
      "Which file or directory are you looking for ? untitled folder\n",
      "There is something and it is a directory !\n"
     ]
    }
   ],
   "source": [
    "# [x] Write a program that prompts the user for a file or directory name\n",
    "# if it exists in the current working directory, it prints whether it is a file or directory\n",
    "import os, os.path\n",
    "print(os.getcwd())\n",
    "file_or_dir = input(\"Which file or directory are you looking for ? \")\n",
    "if os.path.isfile(file_or_dir):\n",
    "    print(\"There is something and it is a file !\")\n",
    "elif os.path.isdir(file_or_dir):\n",
    "    print(\"There is something and it is a directory !\")\n",
    "else:\n",
    "    print(\"There is nothing !\")"
   ]
  },
  {
   "cell_type": "markdown",
   "metadata": {},
   "source": [
    "---\n",
    "<font size=\"6\" color=\"#B24C00\"  face=\"verdana\"> <B>Module 1 Project</B></font>\n",
    "\n",
    "## Directory creator\n",
    "\n"
   ]
  },
  {
   "cell_type": "code",
   "execution_count": 50,
   "metadata": {},
   "outputs": [
    {
     "name": "stdout",
     "output_type": "stream",
     "text": [
      "moved up /Users/julien.matuszak/Repos/python/Python Scripting Academy/Python Scripting Academy Unit 3/Module 1/parent_dir\n",
      "The current working directory is: /Users/julien.matuszak/Repos/python/Python Scripting Academy/Python Scripting Academy Unit 3/Module 1/parent_dir\n",
      "Changing working dir to randoms_directory\n",
      "The current working directory is: /Users/julien.matuszak/Repos/python/Python Scripting Academy/Python Scripting Academy Unit 3/Module 1/parent_dir/randoms_directory\n",
      "Current directory content: ['10_27_2018_13494', '10_27_2018_21365', '10_27_2018_21273', '10_27_2018_29033', '10_27_2018_20293', '10_27_2018_26379', '10_27_2018_38245', '10_27_2018_41073', '10_27_2018_16912', '10_27_2018_42791', '10_27_2018_33628', '10_27_2018_42874']\n"
     ]
    }
   ],
   "source": [
    "# [x] The following program is designed to generate a number of directories.\n",
    "# The directory names follow the pattern (MM_DD_YY_randnum), where:\n",
    "#     - MM_DD_YY: is today's date as month/day/year\n",
    "#     - randnum: is a random integer between 10000 and 50000\n",
    "# For example, if today is May 12th, 2016, then the following would be valid names: 05_12_16_11050 or 05_12_16_15001\n",
    "#\n",
    "# For this task, you should complete the functions:\n",
    "# 1) `directory_count()`\n",
    "# 2) `name_generator()`\n",
    "# 3) `directory_creator(name)`\n",
    "# 4) `create()`\n",
    "#\n",
    "# HINT: You should import all necessary modules\n",
    "\n",
    "import os\n",
    "from random import randint\n",
    "import math\n",
    "from datetime import datetime\n",
    "\n",
    "def directory_count():\n",
    "    \"\"\"\n",
    "    Calculate the number of directories to be generated.\n",
    "    \n",
    "    I) Get the current minute using appropriate functionality from `datetime`\n",
    "    II) Take the square root of ..the current minute + 15\n",
    "    III) Round the square root to an integer\n",
    "    VI) return the rounded number as the number of directories to be created\n",
    "    \n",
    "    args: \n",
    "          NONE\n",
    "    \n",
    "    returns: \n",
    "         `dir_count`: number of directories to be created \n",
    "    \"\"\"\n",
    "    current_minute = 0\n",
    "    dir_count = 0\n",
    "    current_minute = datetime.today().minute\n",
    "    dir_count = int(math.sqrt(current_minute+15))\n",
    "    return(dir_count)\n",
    "\n",
    "def name_generator():\n",
    "    \"\"\"\n",
    "    Generate a single directory name using the pattern (MM_DD_YY_randnum).\n",
    "    \n",
    "    args:\n",
    "         NONE\n",
    "    \n",
    "    returns:\n",
    "         `dir_name`: string containing a valid directory name\n",
    "    \"\"\"\n",
    "    dir_name = \"\"\n",
    "    randnum = 0\n",
    "    randnum = randint(10000,50000)\n",
    "    dir_name = datetime.today().strftime(\"%m_%d_%Y_\")+str(randnum)\n",
    "    return(dir_name)\n",
    "\n",
    "def directory_creator(name):\n",
    "    \"\"\"\n",
    "    Create a single directory called `name` in the current working directory.\n",
    "    \n",
    "    args:\n",
    "         name: directory to be created\n",
    "    \n",
    "    returns:\n",
    "         NONE\n",
    "    \"\"\"\n",
    "    os.mkdir(name)\n",
    "\n",
    "def create():\n",
    "    \"\"\"\n",
    "    Generate the necessary directories.\n",
    "    \n",
    "    Use `directory_count` to calculate the number of directories, then use `directory_creator` and `name_generator`.\n",
    "\n",
    "    args:\n",
    "         NONE\n",
    "    \n",
    "    returns:\n",
    "         NONE\n",
    "    \"\"\"\n",
    "    for a in range(0,directory_count()):\n",
    "        directory_creator(name_generator())\n",
    "        \n",
    "\n",
    "# Change working directory to `parent_dir` or `create`\n",
    "if(\"/Users/julien.matuszak/Repos/python/Python Scripting Academy/Python Scripting Academy Unit 3/Module 1/parent_dir\" not in os.getcwd()):\n",
    "    if os.path.exists(\"/Users/julien.matuszak/Repos/python/Python Scripting Academy/Python Scripting Academy Unit 3/Module 1/parent_dir\"):\n",
    "        print(\"Changing working dir to /Users/julien.matuszak/Repos/python/Python Scripting Academy/Python Scripting Academy Unit 3/Module 1/parent_dir\")\n",
    "        os.chdir(\"/Users/julien.matuszak/Repos/python/Python Scripting Academy/Python Scripting Academy Unit 3/Module 1/parent_dir\")\n",
    "    else:\n",
    "        os.mkdir(os.getcwd() + \"/parent_dir\")\n",
    "        print(\"Changing working dir to parent_dir\")\n",
    "        os.chdir(\"parent_dir\")\n",
    "\n",
    "else:\n",
    "    # so the code can run multiple times \n",
    "    # while directory not ending with 'parent_dir' move up the path ..\\\n",
    "    while \"parent_dir\" not in os.getcwd()[-11:]:\n",
    "        # move up in dir to find 'parent_dir'\n",
    "        os.chdir(\"..\")\n",
    "        print(\"moved up\", os.getcwd())\n",
    "        \n",
    "# print the current working directory (should be \"parent_dir\")\n",
    "print(\"The current working directory is:\", os.getcwd())\n",
    "\n",
    "# check for randoms_directory if not present, create new\n",
    "if os.path.exists(os.getcwd() + \"/randoms_directory\") != True:\n",
    "    os.mkdir(\"randoms_directory\")\n",
    "\n",
    "# change the current working directory to randoms_directory\n",
    "print(\"Changing working dir to randoms_directory\")\n",
    "os.chdir(\"randoms_directory\")\n",
    "# print the current working directory (should be \"randoms_dir\")\n",
    "print(\"The current working directory is:\", os.getcwd())\n",
    "\n",
    "# create directories inside \"randoms_directory\"\n",
    "create()\n",
    "    \n",
    "# list the content of the current directory\n",
    "print(\"Current directory content:\", os.listdir())"
   ]
  }
 ],
 "metadata": {
  "kernelspec": {
   "display_name": "Python 3",
   "language": "python",
   "name": "python3"
  },
  "language_info": {
   "codemirror_mode": {
    "name": "ipython",
    "version": 3
   },
   "file_extension": ".py",
   "mimetype": "text/x-python",
   "name": "python",
   "nbconvert_exporter": "python",
   "pygments_lexer": "ipython3",
   "version": "3.7.0"
  }
 },
 "nbformat": 4,
 "nbformat_minor": 2
}
